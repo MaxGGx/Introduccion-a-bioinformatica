{
  "cells": [
    {
      "cell_type": "markdown",
      "metadata": {
        "id": "Mi1P_igzYj-s"
      },
      "source": [
        "# Desarrollo Tarea 1 - Introducción a la Bioinformática\n",
        "***\n",
        "### Nombres de los integrantes:\n",
        "    - Iñaki Oyarzun M.\n",
        "    - Vicente Alvarez A.\n",
        "\n",
        "\n",
        "***\n",
        "Import de librerías previas\n",
        "\n",
        "\n"
      ]
    },
    {
      "cell_type": "code",
      "execution_count": 31,
      "metadata": {
        "id": "zpWchKFdYj-v"
      },
      "outputs": [],
      "source": [
        "import numpy \n",
        "import matplotlib.pyplot as plt\n",
        "import random\n",
        "import pandas as pd\n",
        "import numpy as np\n",
        "import Levenshtein"
      ]
    },
    {
      "cell_type": "markdown",
      "metadata": {
        "id": "HC1bb5ngYj-v"
      },
      "source": [
        "### Pregunta 1\n",
        "***\n",
        "A partir de la siguiente combinación entre los nombres de los integrantes, se llega a la siguiente consulta a realizar como proteína:\n",
        "\n",
        "`VINAKIALVARESVN` (Vinaki Alvarezun)\n",
        "\n",
        "A partir de la siguiente configuración se procede a realizar la ejecución del algoritmo:\n",
        "\n",
        "![Parámetros del algoritmo](content/ConfigAlgoritmo.PNG)\n",
        "\n",
        "Obteniendo los siguientes resultados:\n",
        "\n",
        "![Resultados de BLAST](content/ResultadosBLAST.PNG)\n",
        "\n",
        "a) De ello, seleccionando la primera proteína hallada se procede a generar los dos dot plots asociados, tomando en cuenta la misma distancia del largo de la query a al derecha y a la izquierda, obteniendo lo siguiente:\n",
        "\n",
        "* match: ikakialvareknlvpfsvn\n",
        "* match + extension derecha e izquierda: stpnssgtlltyildddgr**ikakialvareknlvpfsvn**alenvkstsytyrlpsvetwl\n",
        "\n",
        "\n"
      ]
    },
    {
      "cell_type": "code",
      "execution_count": 35,
      "metadata": {
        "id": "ON33IMPcYj-x",
        "outputId": "429bd8e7-fc28-4e87-c442-74b01a5a8a8e"
      },
      "outputs": [
        {
          "data": {
            "image/png": "[encoded data removed]",
            "text/plain": [
              "<Figure size 800x1200 with 1 Axes>"
            ]
          },
          "metadata": {
            "needs_background": "light"
          },
          "output_type": "display_data"
        },
        {
          "data": {
            "image/png": "[encoded data removed]",
            "text/plain": [
              "<Figure size 800x1200 with 1 Axes>"
            ]
          },
          "metadata": {
            "needs_background": "light"
          },
          "output_type": "display_data"
        },
        {
          "name": "stdout",
          "output_type": "stream",
          "text": [
            "[[1 1 1 1 1 1 1 1 1 1 1 1 1 1 1 1 1 1 1 1 1 1 1 1 1 1 0 1 1 1 1 1 1 0 1 1\n",
            "  1 0 1 1 1 1 1 0 1 1 1 1 1 1 1 1 1 1 1 0 1 1 1 1]\n",
            " [1 1 1 1 1 1 1 1 1 1 1 1 0 1 1 1 1 1 1 0 1 1 1 0 1 1 1 1 1 1 1 1 1 1 1 1\n",
            "  1 1 1 1 1 1 1 1 1 1 1 1 1 1 1 1 1 1 1 1 1 1 1 1]\n",
            " [1 1 1 0 1 1 1 1 1 1 1 1 1 1 1 1 1 1 1 1 1 1 1 1 1 1 1 1 1 1 1 0 1 1 1 1\n",
            "  1 1 0 1 1 1 0 1 1 1 1 1 1 1 1 1 1 1 1 1 1 1 1 1]\n",
            " [1 1 1 1 1 1 1 1 1 1 1 1 1 1 1 1 1 1 1 1 1 0 1 1 0 1 1 0 1 1 1 1 1 1 1 1\n",
            "  1 1 1 0 1 1 1 1 1 1 1 1 1 1 1 1 1 1 1 1 1 1 1 1]\n",
            " [1 1 1 1 1 1 1 1 1 1 1 1 1 1 1 1 1 1 1 1 0 1 0 1 1 1 1 1 1 1 0 1 1 1 1 1\n",
            "  1 1 1 1 1 1 1 1 0 1 1 1 1 1 1 1 1 1 1 1 1 1 1 1]\n",
            " [1 1 1 1 1 1 1 1 1 1 1 1 0 1 1 1 1 1 1 0 1 1 1 0 1 1 1 1 1 1 1 1 1 1 1 1\n",
            "  1 1 1 1 1 1 1 1 1 1 1 1 1 1 1 1 1 1 1 1 1 1 1 1]\n",
            " [1 1 1 1 1 1 1 1 1 1 1 1 1 1 1 1 1 1 1 1 1 0 1 1 0 1 1 0 1 1 1 1 1 1 1 1\n",
            "  1 1 1 0 1 1 1 1 1 1 1 1 1 1 1 1 1 1 1 1 1 1 1 1]\n",
            " [1 1 1 1 1 1 1 1 0 0 1 1 1 0 1 1 1 1 1 1 1 1 1 1 1 0 1 1 1 1 1 1 0 1 1 1\n",
            "  1 1 1 1 0 1 1 1 1 1 1 1 1 1 1 1 0 1 1 1 1 1 1 0]\n",
            " [1 1 1 1 1 1 1 1 1 1 1 1 1 1 1 1 1 1 1 1 1 1 1 1 1 1 0 1 1 1 1 1 1 0 1 1\n",
            "  1 0 1 1 1 1 1 0 1 1 1 1 1 1 1 1 1 1 1 0 1 1 1 1]\n",
            " [1 1 1 1 1 1 1 1 1 1 1 1 1 1 1 1 1 1 1 1 1 0 1 1 0 1 1 0 1 1 1 1 1 1 1 1\n",
            "  1 1 1 0 1 1 1 1 1 1 1 1 1 1 1 1 1 1 1 1 1 1 1 1]\n",
            " [1 1 1 1 1 1 1 1 1 1 1 1 1 1 1 1 1 1 0 1 1 1 1 1 1 1 1 1 0 1 1 1 1 1 1 1\n",
            "  1 1 1 1 1 1 1 1 1 1 1 1 1 1 1 0 1 1 1 1 1 1 1 1]\n",
            " [1 1 1 1 1 1 1 1 1 1 1 1 1 1 1 1 1 1 1 1 1 1 1 1 1 1 1 1 1 0 1 1 1 1 1 1\n",
            "  1 1 1 1 1 0 1 1 1 1 1 1 1 1 1 1 1 1 1 1 0 1 1 1]\n",
            " [0 1 1 1 0 0 1 1 1 1 1 1 1 1 1 1 1 1 1 1 1 1 1 1 1 1 1 1 1 1 1 1 1 1 1 1\n",
            "  0 1 1 1 1 1 1 1 1 0 1 0 1 1 1 1 1 1 0 1 1 1 1 1]\n",
            " [1 1 1 1 1 1 1 1 1 1 1 1 1 1 1 1 1 1 1 1 1 1 1 1 1 1 0 1 1 1 1 1 1 0 1 1\n",
            "  1 0 1 1 1 1 1 0 1 1 1 1 1 1 1 1 1 1 1 0 1 1 1 1]\n",
            " [1 1 1 0 1 1 1 1 1 1 1 1 1 1 1 1 1 1 1 1 1 1 1 1 1 1 1 1 1 1 1 0 1 1 1 1\n",
            "  1 1 0 1 1 1 0 1 1 1 1 1 1 1 1 1 1 1 1 1 1 1 1 1]]\n",
            "[[1 1 1 0 1 1 1 1 1 1 1 1 1 1 1 1 1 1 1 1 1 1 1 1 1 1 1 1 1 1 1 0 1 1 1 1\n",
            "  1 1 0 1 1 1 0 1 1 1 1 1 1 1 1 1 1 1 1 1 1 1 1 1]]\n"
          ]
        }
      ],
      "source": [
        "# Función que genera un dotplot a partir de dos secuencias.\n",
        "# Obtenido de StackOverflow, realizado por John Coleman y complementado por Nick\n",
        "# https://stackoverflow.com/questions/40822400/how-to-create-a-dotplot-of-two-dna-sequence-in-python\n",
        "\n",
        "seq1 = \"VINAKIALVARESVN\"\n",
        "seq2 = (\"stpnssgtlltyildddgrikakialvareknlvpfsvnalenvkstsytyrlpsvetwl\").upper()\n",
        "def delta(x,y):\n",
        "    return 0 if x == y else 1\n",
        "def M(seq1,seq2,i,j,k):\n",
        "    return sum(delta(x,y) for x,y in zip(seq1[i:i+k],seq2[j:j+k]))\n",
        "def makeMatrix(seq1,seq2,k):\n",
        "    n = len(seq1)\n",
        "    m = len(seq2)\n",
        "    return [[M(seq1,seq2,i,j,k) for j in range(m-k+1)] for i in range(n-k+1)]\n",
        "def generateDotplot(seqx, seqy, k):\n",
        "    plt.figure(figsize=(10,15), dpi=80)\n",
        "    dotplot=plt.imshow(numpy.array(makeMatrix(seqx,seqy,k)))\n",
        "    xt=plt.xticks(numpy.arange(len(list(seqy))),list(seqy))\n",
        "    yt=plt.yticks(numpy.arange(len(list(seqx))),list(seqx))\n",
        "    plt.show()\n",
        "\n",
        "def window3(seq1,seq2):\n",
        "    matrix = np.matrix(makeMatrix(seq1,seq2,1))\n",
        "    print(matrix)\n",
        "    print(matrix[14][0])\n",
        "    '''\n",
        "    ancho = matrix.shape[0]\n",
        "    largo = matrix.shape[1]\n",
        "    indexancho = [0,3,6,9,12]\n",
        "    indexlargo = [0,3,6,9,12,15,18,21,24,27,30,33,36,39,42,45,48,51,54,57]\n",
        "    for x in indexlargo:\n",
        "        cont = 0\n",
        "        for i in indexancho:\n",
        "            if(matrix[][])\n",
        "    '''\n",
        "\n",
        "\n",
        "generateDotplot(seq1, seq2,1)\n",
        "generateDotplot(seq1, seq2,3)\n",
        "window3(seq1, seq2)\n",
        "\n",
        "\n",
        "\n"
      ]
    },
    {
      "cell_type": "markdown",
      "metadata": {
        "id": "ir0aFujAYj-y"
      },
      "source": [
        "***\n",
        "b) El alineamiento que entregó BLAST fue el siguiente:\n",
        "\n",
        "![Alineamiento BLAST](content/alineamiento.PNG)\n",
        "\n",
        "De lo anterior se muestra que la diferencia entre la query realizada para BLAST y el segmento de la proteína se encuentra en un solo gap de tamaño 6 y un reemplazo de letra (Segunda letra K por una N)"
      ]
    },
    {
      "cell_type": "markdown",
      "metadata": {
        "id": "BrasLb_bYj-z"
      },
      "source": [
        "***\n",
        "c) Es una pyruvyl-transferasa, una enzima envuelta en biosintesis de polimeros asociados a peptidoglycanos, perteneciente a una familia de proteinas, como lo indica el nombre. Esta información se apoya en el siguiente [link](https://www.ebi.ac.uk/interpro/entry/InterPro/IPR007345/).\n",
        "\n",
        "Su estructura se puede observar en el modelo generado en este [sitio](https://www.uniprot.org/uniprotkb/A0A060I400/entry). Se observa que en gran parte del modelo de la estructura se tiene un alto porcentaje de certeza en cuanto a cómo es realmente."
      ]
    },
    {
      "cell_type": "markdown",
      "metadata": {
        "id": "158QGADuYj-0"
      },
      "source": [
        "***\n",
        "d) Pertenece a una bacteria Bacteroidaceae. Estas son una clase de bacterias perteneciente al filo Bacteroidetes. \n",
        "Son medioambientales y comensales, a veces patógenos.\n",
        "\n",
        "![Bacteroidaceae](content/375px-BacteroidesFragilis_Gram.jpg)\n",
        "\n",
        "Luego, [investigando](https://www.uniprot.org/uniprotkb/A0A060I400/entry#names_and_taxonomy) sobre otros organismos que ha sido encontrada la proteína se pueden observar que está en las bacterias del tipo Rhizobium, las cuales son de la clase Alphaproteobacterias, estas bacterias realizan el proceso de fijación de nitrógeno, Viviendo en simbiosis con las plantas en su raíz (leguminosas).\n",
        "\n",
        "![Rhizobium](content/Rhizobium.png)\n"
      ]
    },
    {
      "cell_type": "markdown",
      "metadata": {
        "id": "pVFhdpHra7-g"
      },
      "source": [
        "***\n",
        "e) De la información hallada sobre la proteína codificada en el segundo organismo, se puede encontrar que:\n",
        "- Su ubicación CDS es la 3450152 a 3451054, con una cantidad de 300 aa. \n",
        "- Encontrándose en una hebra primaria y siendo contínua.\n",
        "- Además es parte del genoma del cromosoma del organismo (Rhizobium)\n",
        "\n",
        "Referencias:\n",
        "\n",
        "[Sobre la proteína NIH](https://www.ncbi.nlm.nih.gov/protein/AIC28562.1).\n",
        "\n",
        "[Genoma (aplicar ctrl + F y buscar \"AIC28562.1\")](http://getentry.ddbj.nig.ac.jp/getentry/na/CP006986)\n",
        "\n",
        "[Sobre la secuencia en uniprot](https://www.uniprot.org/uniprotkb/A0A060I400/entry#sequences)\n"
      ]
    },
    {
      "cell_type": "markdown",
      "metadata": {
        "id": "Q-WgKR6Xcodh"
      },
      "source": [
        "***\n",
        "f) Los datos vienen de 2 trabajos de Xie,F. El primero es *A highly-resolved spatial and functional map of the ruminant gastrointestinal microbiome*, el cuál no fué publicado. El segundo es una entrada directa al *Laoratorio de Microbiologia Gastrointestinal de la Universidad Agricultural de Nanjing*."
      ]
    },
    {
      "cell_type": "markdown",
      "metadata": {
        "id": "lb_H6XYEc9Kr"
      },
      "source": [
        "***\n",
        "g) Los siguientes 5 matches son de organismos distintos:\n",
        "\n",
        "\n",
        "1.   **Bacteroidales bacterium** (beta-glucosidase BglX), asociada a organismos de la flora intestinal.\n",
        "2.   **Candidatus Woesearchaeota archaeon** (TCP-1/cpn60 chaperonin family protein, partial), son parte de un nuevo orden candidato del dominio de Archeas, de las cuales, recientemente solo se han hallado en la naturaleza. Sin embargo no ha sido posible ser cultivadas.\n",
        "3.   **Shinella sp. AETb1-6** (FGGY-family carbohydrate kinase) Asociado a entidades que participan en el desarrollo de las plantas por lo general o procesos que ocurren dentro de ellas.\n",
        "4.   **Gilliamella sp. Pas-s25** (DUF945 family protein), Familia de bacterias asociadas a enfermedades, de importancia médica.\n",
        "5.   **Alphaproteobacteria bacterium** (OmpH family outer membrane protein), de la investigación realizada, se concluye que se encuentra en un conjunto de bacterias del tipo proteobacterias, que son parte de un conjunto mucho mas grande de patógenos.\n",
        "\n",
        "Se ha podido observar o relacionar que las especies 3 y 5 observadas son cercanas al segundo origen encontrado del primer match. Donde por ejemplo se relaciona con la especie 3 en cuanto a pertenecer a procesos de las plantas. Y con la número 5 por pertenecer a la misma clase de las Alphaproteobacterias.\n",
        "\n",
        "![Arbol circular](content/circular_tree.jpg)"
      ]
    },
    {
      "cell_type": "markdown",
      "metadata": {
        "id": "tpEVs36QhoxR"
      },
      "source": [
        "### Pregunta 2\n",
        "***\n",
        "A continuación se generá una función encargada de realizar lo mencionado, por otra parte, para el cálculo de la distancia de Levenshtein, se hará uso de una libreria ofrecida en python llamada \"Levenshtein\", la cual permite realizar este cálculo."
      ]
    },
    {
      "cell_type": "code",
      "execution_count": 2,
      "metadata": {
        "id": "WLbJub52hyzx"
      },
      "outputs": [],
      "source": [
        "#Genera la secuencia aleatoria de 200 bases\n",
        "def generateAlienSeq():\n",
        "    res = \"\"\n",
        "    for x in range(200):\n",
        "        res+=random.choice([\"A\",\"C\",\"G\",\"T\",\"B\",\"D\"])\n",
        "    return res \n",
        "\n",
        "#Crea una mutacion de las 200 bases posibles\n",
        "def mutateAlienSeq(seq):\n",
        "    res = seq\n",
        "    tipo = random.choice([\"insert\",\"del\",\"swap\"])\n",
        "    index = random.choice(range(len(seq)))\n",
        "    if(tipo == \"insert\"):\n",
        "        res = res[:index]+random.choice([\"A\",\"C\",\"G\",\"T\",\"B\",\"D\"])+res[index:]\n",
        "    elif(tipo == \"del\"):\n",
        "        res = res[:index]+res[index+1:]\n",
        "    else:\n",
        "        tomodify = [\"A\",\"C\",\"G\",\"T\",\"B\",\"D\"]\n",
        "        tomodify.remove(res[index])\n",
        "        res = res[:index]+random.choice(tomodify)+res[index+1:]\n",
        "    return res\n"
      ]
    },
    {
      "cell_type": "markdown",
      "metadata": {},
      "source": [
        "***\n",
        "\n",
        "**a)** Se realizará el cálculo solicitado para luego ser graficado en la forma de un histograma.\n"
      ]
    },
    {
      "cell_type": "code",
      "execution_count": 7,
      "metadata": {},
      "outputs": [
        {
          "data": {
            "image/png": "[encoded data removed]",
            "text/plain": [
              "<Figure size 432x288 with 1 Axes>"
            ]
          },
          "metadata": {
            "needs_background": "light"
          },
          "output_type": "display_data"
        }
      ],
      "source": [
        "# Se almacenan los resultados y se genera la secuencia inicial\n",
        "res = []\n",
        "M = random.choice(range(301))\n",
        "init = generateAlienSeq()\n",
        "init0 = init\n",
        "for x in range(M):\n",
        "    temp = mutateAlienSeq(init)\n",
        "    res.append(Levenshtein.distance(init0,temp))\n",
        "    init = temp\n",
        "\n",
        "plt.plot(range(M),res)\n",
        "plt.xlabel(\"Mutaciones realizadas\")\n",
        "plt.ylabel(\"Distancia de Levenshtein calculada (D)\")\n",
        "plt.title(\"Calculo de distancia de Levenshtein en función de M=\"+str(M))\n",
        "plt.grid(1)\n",
        "plt.show()\n"
      ]
    },
    {
      "cell_type": "markdown",
      "metadata": {},
      "source": [
        "***\n",
        "\n",
        "**b)** Para este caso, se hace uso de la misma metodología anterior, pero para este caso con dos secuencias."
      ]
    },
    {
      "cell_type": "code",
      "execution_count": 12,
      "metadata": {},
      "outputs": [
        {
          "data": {
            "image/png": "[encoded data removed]",
            "text/plain": [
              "<Figure size 432x288 with 1 Axes>"
            ]
          },
          "metadata": {
            "needs_background": "light"
          },
          "output_type": "display_data"
        }
      ],
      "source": [
        "resb = []\n",
        "Mb = random.choice(range(301))\n",
        "seq = generateAlienSeq()\n",
        "seq2= seq\n",
        "for x in range(Mb):\n",
        "    seq = mutateAlienSeq(seq)\n",
        "    seq2 =mutateAlienSeq(seq2)\n",
        "    resb.append(Levenshtein.distance(seq,seq2))\n",
        "\n",
        "plt.plot(range(Mb),resb)\n",
        "plt.xlabel(\"Mutaciones realizadas\")\n",
        "plt.ylabel(\"Distancia de Levenshtein calculada (D')\")\n",
        "plt.title(\"Calculo de distancia de Levenshtein en función de M=\"+str(Mb))\n",
        "plt.grid(1)\n",
        "plt.show()\n"
      ]
    },
    {
      "cell_type": "markdown",
      "metadata": {},
      "source": [
        "***\n",
        "\n",
        "**c)** En primer lugar se generarán pares de secuencias y se almacenarán sus distancias, para luego generar y presentar el histograma."
      ]
    },
    {
      "cell_type": "code",
      "execution_count": 15,
      "metadata": {},
      "outputs": [
        {
          "data": {
            "image/png": "[encoded data removed]",
            "text/plain": [
              "<Figure size 432x288 with 1 Axes>"
            ]
          },
          "metadata": {
            "needs_background": "light"
          },
          "output_type": "display_data"
        },
        {
          "name": "stdout",
          "output_type": "stream",
          "text": [
            "Media:  130.5247\n",
            "Desviación estándar:  3.398762997032891\n"
          ]
        }
      ],
      "source": [
        "resc = []\n",
        "for x in range(10000):\n",
        "    resc.append(Levenshtein.distance(generateAlienSeq(),generateAlienSeq()))\n",
        "\n",
        "plt.grid(1)\n",
        "plt.hist(resc, bins=50)\n",
        "plt.xlabel(\"Distancia de Levenshtein\")\n",
        "plt.ylabel(\"Cantidad de ocurrencias\")\n",
        "plt.show()\n",
        "\n",
        "print(\"Media: \",np.mean(resc))\n",
        "print(\"Desviación estándar: \", np.std(resc))"
      ]
    },
    {
      "cell_type": "markdown",
      "metadata": {},
      "source": [
        "***\n",
        "\n",
        "**d)** POR PREGUNTAR"
      ]
    },
    {
      "cell_type": "markdown",
      "metadata": {},
      "source": []
    }
  ],
  "metadata": {
    "colab": {
      "collapsed_sections": [],
      "provenance": []
    },
    "kernelspec": {
      "display_name": "Python 3.10.4 64-bit",
      "language": "python",
      "name": "python3"
    },
    "language_info": {
      "codemirror_mode": {
        "name": "ipython",
        "version": 3
      },
      "file_extension": ".py",
      "mimetype": "text/x-python",
      "name": "python",
      "nbconvert_exporter": "python",
      "pygments_lexer": "ipython3",
      "version": "3.10.4"
    },
    "orig_nbformat": 4,
    "vscode": {
      "interpreter": {
        "hash": "26de051ba29f2982a8de78e945f0abaf191376122a1563185a90213a26c5da77"
      }
    }
  },
  "nbformat": 4,
  "nbformat_minor": 0
}
