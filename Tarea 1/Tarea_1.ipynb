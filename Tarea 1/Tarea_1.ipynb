{
  "cells": [
    {
      "cell_type": "markdown",
      "metadata": {
        "id": "Mi1P_igzYj-s"
      },
      "source": [
        "# Desarrollo Tarea 1 - Introducción a la Bioinformática\n",
        "***\n",
        "### Nombres de los integrantes:\n",
        "    - Iñaki Oyarzun M.\n",
        "    - Vicente Alvarez A.\n",
        "\n",
        "\n",
        "***\n",
        "Import de variables previas\n",
        "\n",
        "\n"
      ]
    },
    {
      "cell_type": "code",
      "execution_count": null,
      "metadata": {
        "id": "zpWchKFdYj-v"
      },
      "outputs": [],
      "source": [
        "import numpy \n",
        "import matplotlib.pyplot as plt"
      ]
    },
    {
      "cell_type": "markdown",
      "metadata": {
        "id": "HC1bb5ngYj-v"
      },
      "source": [
        "### Pregunta 1\n",
        "***\n",
        "A partir de la siguiente combinación entre los nombres de los integrantes, se llega a la siguiente consulta a realizar como proteína:\n",
        "\n",
        "`VINAKIALVARESVN` (Vinaki Alvarezun)\n",
        "\n",
        "A partir de la siguiente configuración se procede a realizar la ejecución del algoritmo:\n",
        "\n",
        "![Parámetros del algoritmo](/content/ConfigAlgoritmo.PNG)\n",
        "\n",
        "Obteniendo los siguientes resultados:\n",
        "\n",
        "![Resultados de BLAST](/content/ResultadosBLAST.PNG)\n",
        "\n",
        "a) De ello, seleccionando la primera proteína hallada se procede a generar los dos dot plots asociados, tomando en cuenta la misma distancia del largo de la query a al derecha y a la izquierda, obteniendo lo siguiente:\n",
        "\n",
        "* match: ikakialvareknlvpfsvn\n",
        "* match + extension derecha e izquierda: stpnssgtlltyildddgr**ikakialvareknlvpfsvn**alenvkstsytyrlpsvet\n",
        "\n",
        "\n"
      ]
    },
    {
      "cell_type": "code",
      "execution_count": null,
      "metadata": {
        "id": "ON33IMPcYj-x",
        "outputId": "429bd8e7-fc28-4e87-c442-74b01a5a8a8e"
      },
      "outputs": [
        {
          "data": {
            "image/png": "[encoded data removed]",
            "text/plain": [
              "<Figure size 800x1200 with 1 Axes>"
            ]
          },
          "metadata": {
            "needs_background": "light"
          },
          "output_type": "display_data"
        },
        {
          "data": {
            "image/png": "[encoded data removed]",
            "text/plain": [
              "<Figure size 800x1200 with 1 Axes>"
            ]
          },
          "metadata": {
            "needs_background": "light"
          },
          "output_type": "display_data"
        }
      ],
      "source": [
        "# Función que genera un dotplot a partir de dos secuencias.\n",
        "# Obtenido de StackOverflow, realizado por John Coleman y complementado por Nick\n",
        "# https://stackoverflow.com/questions/40822400/how-to-create-a-dotplot-of-two-dna-sequence-in-python\n",
        "\n",
        "seq1 = \"VINAKIALVARESVN\"\n",
        "seq2 = (\"stpnssgtlltyildddgrikakialvareknlvpfsvnalenvkstsytyrlpsvet\").upper()\n",
        "def delta(x,y):\n",
        "    return 0 if x == y else 1\n",
        "def M(seq1,seq2,i,j,k):\n",
        "    return sum(delta(x,y) for x,y in zip(seq1[i:i+k],seq2[j:j+k]))\n",
        "def makeMatrix(seq1,seq2,k):\n",
        "    n = len(seq1)\n",
        "    m = len(seq2)\n",
        "    return [[M(seq1,seq2,i,j,k) for j in range(m-k+1)] for i in range(n-k+1)]\n",
        "def generateDotplot(seqx, seqy, k):\n",
        "    plt.figure(figsize=(10,15), dpi=80)\n",
        "    dotplot=plt.imshow(numpy.array(makeMatrix(seqx,seqy,k)))\n",
        "    xt=plt.xticks(numpy.arange(len(list(seqy))),list(seqy))\n",
        "    yt=plt.yticks(numpy.arange(len(list(seqx))),list(seqx))\n",
        "    plt.show()\n",
        "\n",
        "generateDotplot(seq1, seq2,1)\n",
        "generateDotplot(seq1, seq2,3)\n",
        "\n",
        "\n"
      ]
    },
    {
      "cell_type": "markdown",
      "metadata": {
        "id": "ir0aFujAYj-y"
      },
      "source": [
        "***\n",
        "b) El alineamiento que entregó BLAST fue el siguiente:\n",
        "\n",
        "![Alineamiento BLAST](/content/alineamiento.PNG)\n",
        "\n",
        "De lo anterior se muestra que la diferencia entre la query realizada para BLAST y el segmento de la proteína se encuentra en un solo gap de tamaño 6 y un reemplazo de letra (Segunda letra K por una N)"
      ]
    },
    {
      "cell_type": "markdown",
      "metadata": {
        "id": "BrasLb_bYj-z"
      },
      "source": [
        "***\n",
        "c) Es una pyruvyl-transferasa, una enzima envuelta en biosintesis de polimeros asociados a peptidoglycanos, perteneciente a una familia de proteinas, como lo indica el nombre. Esta información se apoya en el siguiente [link](https://www.ebi.ac.uk/interpro/entry/InterPro/IPR007345/).\n",
        "\n",
        "Su estructura se puede observar en el modelo generado en este [sitio](https://www.uniprot.org/uniprotkb/A0A060I400/entry)."
      ]
    },
    {
      "cell_type": "markdown",
      "metadata": {
        "id": "158QGADuYj-0"
      },
      "source": [
        "***\n",
        "d) Pertenece a una bacteria Bacteroidaceae. Estas son una clase de bacterias perteneciente al filo Bacteroidetes. \n",
        "Son medioambientales y comensales, a veces patógenos.\n",
        "![Bacteroidaceae](/content/375px-BacteroidesFragilis_Gram.jpg)"
      ]
    },
    {
      "cell_type": "markdown",
      "source": [
        "***\n",
        "e) no sé"
      ],
      "metadata": {
        "id": "pVFhdpHra7-g"
      }
    },
    {
      "cell_type": "markdown",
      "source": [
        "***\n",
        "f) Los datos vienen de 2 trabajos de Xie,F. El primero es *A highly-resolved spatial and functional map of the ruminant gastrointestinal microbiome*, el cuál no fué publicado. El segundo es una entrada directa al *Laoratorio de Microbiologia Gastrointestinal de la Universidad Agricultural de Nanjing*."
      ],
      "metadata": {
        "id": "Q-WgKR6Xcodh"
      }
    },
    {
      "cell_type": "markdown",
      "source": [
        "***\n",
        "g) Los siguientes 5 matches son de organismos distintos:\n",
        "\n",
        "\n",
        "*   **Bacteroidales bacterium** (beta-glucosidase BglX)\n",
        "*   **Candidatus Woesearchaeota archaeon** (TCP-1/cpn60 chaperonin family protein, partial)\n",
        "*   **Shinella sp. AETb1-6** (FGGY-family carbohydrate kinase)\n",
        "*   **Gilliamella sp. Pas-s25** (DUF945 family protein)\n",
        "*   **Alphaproteobacteria bacterium** (OmpH family outer membrane protein)\n",
        "\n",
        "![Arbol circular](/content/circular_tree.jpg)"
      ],
      "metadata": {
        "id": "lb_H6XYEc9Kr"
      }
    },
    {
      "cell_type": "markdown",
      "source": [
        "### Pregunta 2\n",
        "***\n",
        "a)"
      ],
      "metadata": {
        "id": "tpEVs36QhoxR"
      }
    },
    {
      "cell_type": "code",
      "source": [],
      "metadata": {
        "id": "WLbJub52hyzx"
      },
      "execution_count": null,
      "outputs": []
    }
  ],
  "metadata": {
    "kernelspec": {
      "display_name": "Python 3.9.1 64-bit",
      "language": "python",
      "name": "python3"
    },
    "language_info": {
      "codemirror_mode": {
        "name": "ipython",
        "version": 3
      },
      "file_extension": ".py",
      "mimetype": "text/x-python",
      "name": "python",
      "nbconvert_exporter": "python",
      "pygments_lexer": "ipython3",
      "version": "3.9.1"
    },
    "orig_nbformat": 4,
    "vscode": {
      "interpreter": {
        "hash": "f431cb1ead83e6b477373bfe8b18089bed88fb3d50773717583b1f05109bc450"
      }
    },
    "colab": {
      "provenance": [],
      "collapsed_sections": []
    }
  },
  "nbformat": 4,
  "nbformat_minor": 0
}