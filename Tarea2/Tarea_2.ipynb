{
  "cells": [
    {
      "attachments": {},
      "cell_type": "markdown",
      "metadata": {},
      "source": [
        "# Desarrollo Tarea 2 - Bioinformática\n",
        "\n",
        "- Vicente Álvarez\n",
        "- Iñaki Oyarzun M.\n",
        "\n",
        "### Repositorio\n",
        "Se adjunta un repositorio que contiene los resultados y notebook para visualizar desde el navegador\n",
        "\n",
        "[Link](https://github.com/MaxGGx/Introduccion-a-bioinformatica/tree/main/Tarea2)\n",
        "\n",
        "### Preparación de librerias\n",
        "Se procede con la instalacion de las librerias a utilizar como parte del notebook\n",
        "\n"
      ]
    },
    {
      "cell_type": "code",
      "execution_count": 26,
      "metadata": {
        "colab": {
          "base_uri": "https://localhost:8080/"
        },
        "id": "1zlBAuVt3Y4V",
        "outputId": "4c6057b3-7831-4ba5-9b03-8d31cc8ad923"
      },
      "outputs": [
        {
          "name": "stdout",
          "output_type": "stream",
          "text": [
            "Requirement already satisfied: biopython in c:\\users\\inaki\\appdata\\local\\programs\\python\\python311\\lib\\site-packages (1.80)\n",
            "Requirement already satisfied: numpy in c:\\users\\inaki\\appdata\\local\\programs\\python\\python311\\lib\\site-packages (from biopython) (1.23.5)\n"
          ]
        }
      ],
      "source": [
        "!pip install biopython"
      ]
    },
    {
      "cell_type": "code",
      "execution_count": 27,
      "metadata": {
        "id": "h5bASjGf2Xq2"
      },
      "outputs": [],
      "source": [
        "from Bio.Data.CodonTable import unambiguous_dna_by_id\n",
        "from Bio import SeqIO\n",
        "from random import choice\n",
        "from Bio.Seq import Seq\n",
        "from Bio.SeqRecord import SeqRecord"
      ]
    },
    {
      "cell_type": "code",
      "execution_count": 28,
      "metadata": {
        "id": "h6TbJK8g79Gf"
      },
      "outputs": [],
      "source": [
        "def altcodons(codon, table):\n",
        "    \"\"\"List codons that code for the same aminonacid / are also stop.\n",
        "\n",
        "    @param codon\n",
        "    @table code table id\n",
        "    @return list of codons\n",
        "\n",
        "    \"\"\"\n",
        "    plus4 = [[\"CGT\",\"CGC\",\"CGA\",\"CGG\",\"AGA\",\"AGG\"],[\"CTT\",\"CTC\",\"CTA\",\"CTG\",\"TTA\",\"TTG\"],[\"TCT\",\"TCC\",\"TCA\",\"TCG\",\"AGT\",\"AGC\"]]\n",
        "    for l in plus4:\n",
        "      if codon in l:\n",
        "        return l\n",
        "\n",
        "    tab = unambiguous_dna_by_id[table]\n",
        "\n",
        "    if codon in tab.stop_codons:\n",
        "        return tab.stop_codons\n",
        "\n",
        "    try:\n",
        "        aa = tab.forward_table[codon]\n",
        "    except:\n",
        "        return []\n",
        "\n",
        "    return [\n",
        "        k\n",
        "        for (k, v) in tab.forward_table.items()\n",
        "        if v == aa and k[0] == codon[0] and k[1] == codon[1]\n",
        "    ]\n",
        "\n",
        "\n",
        "def degeneration(codon, table):\n",
        "    \"\"\"Determine how many codons code for the same amino acid / are also stop\n",
        "\n",
        "    @param codon the codon\n",
        "    @param table code table id\n",
        "    @param the number of codons also coding for the amino acid codon codes for\n",
        "\n",
        "    \"\"\"\n",
        "    return len(altcodons(codon, table))\n",
        "\n",
        "\n",
        "def is_x_degenerated(x, codon, table):\n",
        "    \"\"\"Determine if codon is x-fold degenerated.\n",
        "\n",
        "    @param codon the codon\n",
        "    @param table code table id\n",
        "    @param true if x <= the degeneration of the codon\n",
        "\n",
        "    \"\"\"\n",
        "    return x <= len(altcodons(codon, table))\n",
        "\n",
        "\n",
        "def degenerated_subseq(seq, x, table):\n",
        "    \"\"\"Get a subsequence consisting of the x-fold degenerated codons only.\"\"\"\n",
        "    data = \"\"\n",
        "    for i in range(0, len(seq), 3):\n",
        "        codon = seq[i : i + 3].tostring()\n",
        "        if is_x_degenerated(x, codon, table):\n",
        "            data += codon\n",
        "    return data"
      ]
    },
    {
      "attachments": {},
      "cell_type": "markdown",
      "metadata": {},
      "source": [
        "***\n",
        "# Pregunta 1\n",
        "\n",
        "### a)\n",
        "Para el alineamiento de las secuencias, se vuelven a generar el blasting basado en los datos indicados en la tarea anterior, se indica en la siguiente foto los resultados junto a los rangos en los que se encontró. \n",
        "<br><br>\n",
        "![Blasting](content/BLAST.png \"Resultados de realización BLAST, junto a rangos hallados\")<br>\n",
        "\n",
        "Resultados Blasting\n",
        "<br><br>\n",
        "\n",
        "Luego se decide hacer uso de Kalign, con la siguiente configuración y archivo unificado de las primeras 5 secuencias que entrega BLAST:\n",
        "<br><br>\n",
        "\n",
        "![Alineamiento](content/AlineamientoHecho.png \"Archivo para alineaminto en Kalign utilizado\")\n",
        "<br>\n",
        "\n",
        "Alineamiento\n",
        "\n",
        "<br><br>\n",
        "\n",
        "![Kalign](content/Kalign.png \"Configuración Kalign utilizada\")\n",
        "<br>\n",
        "\n",
        "Configuración Kalign\n",
        "\n",
        "<br><br><br>\n",
        "\n",
        "De los desarrollos realizados, Kalign entrega los siguientes resultados:\n",
        "\n",
        "<br><br><br>\n",
        "\n",
        "![Alineamiento 1](content/P1_L1.png \"Alineamiento de la proteína 1\")\n",
        "<br>\n",
        "\n",
        "Alineamiento proteína 1\n",
        "\n",
        "<br><br>\n",
        "\n",
        "![Alineamiento 2](content/P1_L2.png \"Alineamiento de la proteína 2\")\n",
        "\n",
        "<br>\n",
        "\n",
        "Alineamiento proteína 2\n",
        "\n",
        "<br><br>\n",
        "\n",
        "![Alineamiento 3](content/P1_L3.png \"Alineamiento de la proteína 3\")\n",
        "\n",
        "<br>\n",
        "Alineamiento proteína 3\n",
        "\n",
        "<br><br>\n",
        "\n",
        "![Alineamiento 4](content/P1_L4.png \"Alineamiento de la proteína 4\")\n",
        "\n",
        "<br>\n",
        "\n",
        "Alineamiento proteína 4\n",
        "\n",
        "<br><br>\n",
        "\n",
        "![Alineamiento 5](content/P1_L5.png \"Alineamiento de la proteína 5\")\n",
        "\n",
        "<br>\n",
        "\n",
        "Alineamiento proteína 5\n",
        "\n",
        "<br><br><br>\n",
        "\n",
        "Notar que de las 5 proteinas alineadas, solo la proteina 1, 4 y 5 contienen los segmentos con el nombre ingresado (subrayado). En cambio las otras no se encontraban como parte del alineamiento.\n",
        "\n",
        "### b)\n",
        "Para este caso, se hace uso de los siguientes segmentos (Obtenidos de la imagen anterior de BLAST):\n",
        "\n",
        "- Proteina 1: VKNAKIALVARE\n",
        "- Proteina 2: VIDIGKTNAKVALVARES\n",
        "- Proteina 3: VIDIGKTNAKVALVARES\n",
        "- Proteina 4: VINSKIALIDRGSC\n",
        "- Proteina 5: INGKIALIERGSCN\n",
        "\n",
        "Al alinearlos nuevamente utilizando Kalign, se obtiene lo siguiente:\n",
        "\n",
        "<br><br>\n",
        "\n",
        "![Alineamiento](content/P1_L6.png \"Alineamiento de los segmentos de las 5 proteínas\")\n",
        "\n",
        "<br>\n",
        "\n",
        "Alineamiento de las 5 proteínas\n",
        "\n",
        "<br><br><br>\n",
        "\n",
        "### c)\n",
        "Usando los alineamientos se construye y dibuja el HMM\n",
        "\n",
        "<br>\n",
        "\n",
        "Alineamiento\n",
        "<br><br>\n",
        "\n",
        "![Alineamiento](content/Alignment.png \"Alineamiento de los segmentos de las 5 proteínas\")\n",
        "\n",
        "<br><br>\n",
        "\n",
        "Se plantea una expresión regular para estudiar los patrones de la siguiente manera:\n",
        "\n",
        "<br><br>\n",
        "\n",
        "![Regex](content/Regex.png \"Expresion regular para estudio de patrones\")\n",
        "\n",
        "<br>\n",
        "\n",
        "Expresion regular para estudio de patrones\n",
        "\n",
        "<br><br>\n",
        "\n",
        "Siendo de la siguiente forma:<br>\n",
        "\n",
        "\\* [KTI] N [ASG] K [VI] AL [VI] [ADE] R [EG] S *\n",
        "\n",
        "<br><br>\n",
        "\n",
        "Con ello se puede obtener y dibujar HMM, obteniendo lo siguiente:\n",
        "\n",
        "<br><br>\n",
        "\n",
        "![HMM](content/HMM.png \"HMM\")\n",
        "\n",
        "<br>\n",
        "\n",
        "HMM Desarrollado\n",
        "\n",
        "<br><br><br>\n",
        "\n",
        "### d)\n",
        "Para determinar la secuenca de estados internos mas probable se realiza para la emision del nombre basta con observar del modelo HMM que justamente aquellos estados con más probabilidad son los que benefician la creacion del nombre, por lo que, si se sigue la secuencia a partir de la seleccion del estado con mayor valor se obtiene que la secuencia mas probable para generar el nombre es:<br><br>\n",
        "\n",
        "P(I N A K I A L V A R E S) = $0.031e-2$"
      ]
    },
    {
      "attachments": {},
      "cell_type": "markdown",
      "metadata": {},
      "source": [
        "***\n",
        "\n",
        "# Pregunta 2\n",
        "\n",
        "### a)\n",
        "Para este desarrollo, tal como se menciona el enunciado, se prodcede a realizar el método de máxima parsimonia de manera manual, habiendo identificado las posiciones 6 (1 en el dibujo), 7 (2 en el dibujo), 9 (3 en el dibujo), 10 (4 en el dibujo), 13 (5 en el dibujo) y 14 (6 en el dibujo). Generando con ello la siguiente serie de arboles sin enraizar según cada posición y cantidad de mutaciones:\n",
        "\n",
        "<br><br>\n",
        "\n",
        "![Desarrollo sin raíz](content/Sin_enraizar.png \"Desarrollo sin raíz\")\n",
        "\n",
        "<br>\n",
        "\n",
        "Desarrollo a mano de máxima parsimonia\n",
        "\n",
        "<br><br><br>\n",
        "\n",
        "Con esto se logra determinar con máxima parsimonia que el mejor árbol filogenético será el primero.\n",
        "\n",
        "### b)\n",
        "\n",
        "Realizando un enraizado a partir de que se sabe el outgrup (S1), se llega a obtener el siguiente arbol con los parentezcos.\n",
        "\n",
        "<br><br>\n",
        "\n",
        "![Enraizado](content/Enraizado.png \"Desarrollo con raíz\")\n",
        "\n",
        "<br>\n",
        "\n",
        "Desarrollo para enraizar sabiendo como outgrup S1\n",
        "\n",
        "<br><br><br>\n",
        "\n",
        "De lo que se observa que, en este caso S3 y S4 comparten un parentezco en mayor medida en comparación a S1 y S2, que quedan mas separados.\n",
        "\n",
        "### c) \n",
        "\n",
        "Se puede inferir que la secuencia ancestral al menos tuvo 3 mutaciones las cuales hacen clave la diferenciación o creación de las secuencias 1, 2, 3 y 4. \n",
        "\n"
      ]
    },
    {
      "attachments": {},
      "cell_type": "markdown",
      "metadata": {
        "id": "EDad8U56JAnT"
      },
      "source": [
        "***\n",
        "# Pregunta 3"
      ]
    },
    {
      "attachments": {},
      "cell_type": "markdown",
      "metadata": {
        "id": "7eIBS0_LJXSG"
      },
      "source": [
        "### a) \n",
        "Para el desarrollo de esta pregunta, se toma por lo entendido en clase que los codones tanto de inicio y fin no son tomados en cuenta."
      ]
    },
    {
      "cell_type": "code",
      "execution_count": 43,
      "metadata": {
        "id": "IkbuL3V-4l8l"
      },
      "outputs": [],
      "source": [
        "def split_codon(seq):\n",
        "  split_seq = [seq[i:i+3] for i in range(0, len(seq), 3)]\n",
        "  return split_seq\n",
        "\n",
        "def seq_rand(seq):\n",
        "  \"\"\"Randomiza los codónes de una secuencia codificadora por sus homologos\n",
        "\n",
        "  @param seq la secuencia codificadora a randomizar (string)\n",
        "  @param la secuencia seq randomizada\n",
        "  \"\"\"\n",
        "  codones = split_codon(seq)\n",
        "  for i in range(1, len(codones)):\n",
        "    options = altcodons(codones[i], 1)\n",
        "    codones[i] = choice(options)\n",
        "  res = \"\".join(codones)\n",
        "  return res"
      ]
    },
    {
      "attachments": {},
      "cell_type": "markdown",
      "metadata": {
        "id": "Vd3MYvxRJcjx"
      },
      "source": [
        "### b)"
      ]
    },
    {
      "cell_type": "code",
      "execution_count": 41,
      "metadata": {
        "id": "wdJWlertJidb"
      },
      "outputs": [],
      "source": [
        "def nucleo_score(codons):\n",
        "  best_codon = \"\"\n",
        "  max_score = 0\n",
        "  for c in codons:\n",
        "    s = c.count('C')+c.count('G')\n",
        "    if s >= max_score:\n",
        "      best_codon = c\n",
        "      max_score = s\n",
        "  return best_codon\n",
        "\n",
        "def seq_maxGC(seq):\n",
        "  \"\"\"Aumenta el porcentaje de bases G y C\n",
        "\n",
        "  @param seq la secuencia codificadora a alterar (string)\n",
        "  @param la secuencia seq maximizada para G y C\n",
        "  \"\"\"\n",
        "  codones = split_codon(seq)\n",
        "  for i in range(1, len(codones)):\n",
        "    options = altcodons(codones[i], 1)\n",
        "    b = nucleo_score(options)\n",
        "    codones[i] = b\n",
        "  res = \"\".join(codones)\n",
        "  return res"
      ]
    },
    {
      "attachments": {},
      "cell_type": "markdown",
      "metadata": {
        "id": "oGSWeMZuQF1W"
      },
      "source": [
        "### c)"
      ]
    },
    {
      "cell_type": "code",
      "execution_count": 46,
      "metadata": {
        "id": "iE7-uI0GQEt2"
      },
      "outputs": [
        {
          "name": "stdout",
          "output_type": "stream",
          "text": [
            "Secuencia randomizada:\n",
            " ATGGACCTGAGCGCGCTGCGGGTGGAGGAGGTGCAGAACGTGATCAACGCGATGCAGAAGATCCTGGAGTGCCCGATCTGCCTGGAGCTGATCAAGGAGCCGGTGAGCACGAAGTGCGACCACATCTTCTGCAAGTTCTGCATGCTGAAGCTGCTGAACCAGAAGAAGGGGCCGAGCCAGTGCCCGCTGTGCAAGAACGACATCACGAAGCGGAGCCTGCAGGAGAGCACGCGGTTCAGCCAGCTGGTGGAGGAGCTGCTGAAGATCATCTGCGCGTTCCAGCTGGACACGGGGCTGGAGTACGCGAACAGCTACAACTTCGCGAAGAAGGAGAACAACAGCCCGGAGCACCTGAAGGACGAGGTGAGCATCATCCAGAGCATGGGGTACCGGAACCGGGCGAAGCGGCTGCTGCAGAGCGAGCCGGAGAACCCGAGCCTGCAGGAGACGAGCCTGAGCGTGCAGCTGAGCAACCTGGGGACGGTGCGGACGCTGCGGACGAAGCAGCGGATCCAGCCGCAGAAGACGAGCGTGTACATCGAGCTGGGGAGCGACAGCAGCGAGGACACGGTGAACAAGGCGACGTACTGCAGCGTGGGGGACCAGGAGCTGCTGCAGATCACGCCGCAGGGGACGCGGGACGAGATCAGCCTGGACAGCGCGAAGAAGGCGGCGTGCGAGTTCAGCGAGACGGACGTGACGAACACGGAGCACCACCAGCCGAGCAACAACGACCTGAACACGACGGAGAAGCGGGCGGCGGAGCGGCACCCGGAGAAGTACCAGGGGAGCAGCGTGAGCAACCTGCACGTGGAGCCGTGCGGGACGAACACGCACGCGAGCAGCCTGCAGCACGAGAACAGCAGCCTGCTGCTGACGAAGGACCGGATGAACGTGGAGAAGGCGGAGTTCTGCAACAAGAGCAAGCAGCCGGGGCTGGCGCGGAGCCAGCACAACCGGTGGGCGGGGAGCAAGGAGACGTGCAACGACCGGCGGACGCCGAGCACGGAGAAGAAGGTGGACCTGAACGCGGACCCGCTGTGCGAGCGGAAGGAGTGGAACAAGCAGAAGCTGCCGTGCAGCGAGAACCCGCGGGACACGGAGGACGTGCCGTGGATCACGCTGAACAGCAGCATCCAGAAGGTGAACGAGTGGTTCAGCCGGAGCGACGAGCTGCTGGGGAGCGACGACAGCCACGACGGGGAGAGCGAGAGCAACGCGAAGGTGGCGGACGTGCTGGACGTGCTGAACGAGGTGGACGAGTACAGCGGGAGCAGCGAGAAGATCGACCTGCTGGCGAGCGACCCGCACGAGGCGCTGATCTGCAAGAGCGAGCGGGTGCACAGCAAGAGCGTGGAGAGCAACATCGAGGACAAGATCTTCGGGAAGACGTACCGGAAGAAGGCGAGCCTGCCGAACCTGAGCCACGTGACGGAGAACCTGATCATCGGGGCGTTCGTGACGGAGCCGCAGATCATCCAGGAGCGGCCGCTGACGAACAAGCTGAAGCGGAAGCGGCGGCCGACGAGCGGGCTGCACCCGGAGGACTTCATCAAGAAGGCGGACCTGGCGGTGCAGAAGACGCCGGAGATGATCAACCAGGGGACGAACCAGACGGAGCAGAACGGGCAGGTGATGAACATCACGAACAGCGGGCACGAGAACAAGACGAAGGGGGACAGCATCCAGAACGAGAAGAACCCGAACCCGATCGAGAGCCTGGAGAAGGAGAGCGCGTTCAAGACGAAGGCGGAGCCGATCAGCAGCAGCATCAGCAACATGGAGCTGGAGCTGAACATCCACAACAGCAAGGCGCCGAAGAAGAACCGGCTGCGGCGGAAGAGCAGCACGCGGCACATCCACGCGCTGGAGCTGGTGGTGAGCCGGAACCTGAGCCCGCCGAACTGCACGGAGCTGCAGATCGACAGCTGCAGCAGCAGCGAGGAGATCAAGAAGAAGAAGTACAACCAGATGCCGGTGCGGCACAGCCGGAACCTGCAGCTGATGGAGGGGAAGGAGCCGGCGACGGGGGCGAAGAAGAGCAACAAGCCGAACGAGCAGACGAGCAAGCGGCACGACAGCGACACGTTCCCGGAGCTGAAGCTGACGAACGCGCCGGGGAGCTTCACGAAGTGCAGCAACACGAGCGAGCTGAAGGAGTTCGTGAACCCGAGCCTGCCGCGGGAGGAGAAGGAGGAGAAGCTGGAGACGGTGAAGGTGAGCAACAACGCGGAGGACCCGAAGGACCTGATGCTGAGCGGGGAGCGGGTGCTGCAGACGGAGCGGAGCGTGGAGAGCAGCAGCATCAGCCTGGTGCCGGGGACGGACTACGGGACGCAGGAGAGCATCAGCCTGCTGGAGGTGAGCACGCTGGGGAAGGCGAAGACGGAGCCGAACAAGTGCGTGAGCCAGTGCGCGGCGTTCGAGAACCCGAAGGGGCTGATCCACGGGTGCAGCAAGGACAACCGGAACGACACGGAGGGGTTCAAGTACCCGCTGGGGCACGAGGTGAACCACAGCCGGGAGACGAGCATCGAGATGGAGGAGAGCGAGCTGGACGCGCAGTACCTGCAGAACACGTTCAAGGTGAGCAAGCGGCAGAGCTTCGCGCCGTTCAGCAACCCGGGGAACGCGGAGGAGGAGTGCGCGACGTTCAGCGCGCACAGCGGGAGCCTGAAGAAGCAGAGCCCGAAGGTGACGTTCGAGTGCGAGCAGAAGGAGGAGAACCAGGGGAAGAACGAGAGCAACATCAAGCCGGTGCAGACGGTGAACATCACGGCGGGGTTCCCGGTGGTGGGGCAGAAGGACAAGCCGGTGGACAACGCGAAGTGCAGCATCAAGGGGGGGAGCCGGTTCTGCCTGAGCAGCCAGTTCCGGGGGAACGAGACGGGGCTGATCACGCCGAACAAGCACGGGCTGCTGCAGAACCCGTACCGGATCCCGCCGCTGTTCCCGATCAAGAGCTTCGTGAAGACGAAGTGCAAGAAGAACCTGCTGGAGGAGAACTTCGAGGAGCACAGCATGAGCCCGGAGCGGGAGATGGGGAACGAGAACATCCCGAGCACGGTGAGCACGATCAGCCGGAACAACATCCGGGAGAACGTGTTCAAGGAGGCGAGCAGCAGCAACATCAACGAGGTGGGGAGCAGCACGAACGAGGTGGGGAGCAGCATCAACGAGATCGGGAGCAGCGACGAGAACATCCAGGCGGAGCTGGGGCGGAACCGGGGGCCGAAGCTGAACGCGATGCTGCGGCTGGGGGTGCTGCAGCCGGAGGTGTACAAGCAGAGCCTGCCGGGGAGCAACTGCAAGCACCCGGAGATCAAGAAGCAGGAGTACGAGGAGGTGGTGCAGACGGTGAACACGGACTTCAGCCCGTACCTGATCAGCGACAACCTGGAGCAGCCGATGGGGAGCAGCCACGCGAGCCAGGTGTGCAGCGAGACGCCGGACGACCTGCTGGACGACGGGGAGATCAAGGAGGACACGAGCTTCGCGGAGAACGACATCAAGGAGAGCAGCGCGGTGTTCAGCAAGAGCGTGCAGAAGGGGGAGCTGAGCCGGAGCCCGAGCCCGTTCACGCACACGCACCTGGCGCAGGGGTACCGGCGGGGGGCGAAGAAGCTGGAGAGCAGCGAGGAGAACCTGAGCAGCGAGGACGAGGAGCTGCCGTGCTTCCAGCACCTGCTGTTCGGGAAGGTGAACAACATCCCGAGCCAGAGCACGCGGCACAGCACGGTGGCGACGGAGTGCCTGAGCAAGAACACGGAGGAGAACCTGCTGAGCCTGAAGAACAGCCTGAACGACTGCAGCAACCAGGTGATCCTGGCGAAGGCGAGCCAGGAGCACCACCTGAGCGAGGAGACGAAGTGCAGCGCGAGCCTGTTCAGCAGCCAGTGCAGCGAGCTGGAGGACCTGACGGCGAACACGAACACGCAGGACCCGTTCCTGATCGGGAGCAGCAAGCAGATGCGGCACCAGAGCGAGAGCCAGGGGGTGGGGCTGAGCGACAAGGAGCTGGTGAGCGACGACGAGGAGCGGGGGACGGGGCTGGAGGAGAACAACCAGGAGGAGCAGAGCATGGACAGCAACCTGGGGGAGGCGGCGAGCGGGTGCGAGAGCGAGACGAGCGTGAGCGAGGACTGCAGCGGGCTGAGCAGCCAGAGCGACATCCTGACGACGCAGCAGCGGGACACGATGCAGCACAACCTGATCAAGCTGCAGCAGGAGATGGCGGAGCTGGAGGCGGTGCTGGAGCAGCACGGGAGCCAGCCGAGCAACAGCTACCCGAGCATCATCAGCGACAGCAGCGCGCTGGAGGACCTGCGGAACCCGGAGCAGAGCACGAGCGAGAAGGCGGTGCTGACGAGCCAGAAGAGCAGCGAGTACCCGATCAGCCAGAACCCGGAGGGGCTGAGCGCGGACAAGTTCGAGGTGAGCGCGGACAGCAGCACGAGCAAGAACAAGGAGCCGGGGGTGGAGCGGAGCAGCCCGAGCAAGTGCCCGAGCCTGGACGACCGGTGGTACATGCACAGCTGCAGCGGGAGCCTGCAGAACCGGAACTACCCGAGCCAGGAGGAGCTGATCAAGGTGGTGGACGTGGAGGAGCAGCAGCTGGAGGAGAGCGGGCCGCACGACCTGACGGAGACGAGCTACCTGCCGCGGCAGGACCTGGAGGGGACGCCGTACCTGGAGAGCGGGATCAGCCTGTTCAGCGACGACCCGGAGAGCGACCCGAGCGAGGACCGGGCGCCGGAGAGCGCGCGGGTGGGGAACATCCCGAGCAGCACGAGCGCGCTGAAGGTGCCGCAGCTGAAGGTGGCGGAGAGCGCGCAGAGCCCGGCGGCGGCGCACACGACGGACACGGCGGGGTACAACGCGATGGAGGAGAGCGTGAGCCGGGAGAAGCCGGAGCTGACGGCGAGCACGGAGCGGGTGAACAAGCGGATGAGCATGGTGGTGAGCGGGCTGACGCCGGAGGAGTTCATGCTGGTGTACAAGTTCGCGCGGAAGCACCACATCACGCTGACGAACCTGATCACGGAGGAGACGACGCACGTGGTGATGAAGACGGACGCGGAGTTCGTGTGCGAGCGGACGCTGAAGTACTTCCTGGGGATCGCGGGGGGGAAGTGGGTGGTGAGCTACTTCTGGGTGACGCAGAGCATCAAGGAGCGGAAGATGCTGAACGAGCACGACTTCGAGGTGCGGGGGGACGTGGTGAACGGGCGGAACCACCAGGGGCCGAAGCGGGCGCGGGAGAGCCAGGACCGGAAGATCTTCCGGGGGCTGGAGATCTGCTGCTACGGGCCGTTCACGAACATGCCGACGGACCAGCTGGAGTGGATGGTGCAGCTGTGCGGGGCGAGCGTGGTGAAGGAGCTGAGCAGCTTCACGCTGGGGACGGGGGTGCACCCGATCGTGGTGGTGCAGCCGGACGCGTGGACGGAGGACAACGGGTTCCACGCGATCGGGCAGATGTGCGAGGCGCCGGTGGTGACGCGGGAGTGGGTGCTGGACAGCGTGGCGCTGTACCAGTGCCAGGAGCTGGACACGTACCTGATCCCGCAGATCCCGCACAGCCACTACTGA\n",
            "\n",
            "Secuencia maximizada:\n",
            " ATGGACCTGAGCGCGCTGCGGGTGGAGGAGGTGCAGAACGTGATCAACGCGATGCAGAAGATCCTGGAGTGCCCGATCTGCCTGGAGCTGATCAAGGAGCCGGTGAGCACGAAGTGCGACCACATCTTCTGCAAGTTCTGCATGCTGAAGCTGCTGAACCAGAAGAAGGGGCCGAGCCAGTGCCCGCTGTGCAAGAACGACATCACGAAGCGGAGCCTGCAGGAGAGCACGCGGTTCAGCCAGCTGGTGGAGGAGCTGCTGAAGATCATCTGCGCGTTCCAGCTGGACACGGGGCTGGAGTACGCGAACAGCTACAACTTCGCGAAGAAGGAGAACAACAGCCCGGAGCACCTGAAGGACGAGGTGAGCATCATCCAGAGCATGGGGTACCGGAACCGGGCGAAGCGGCTGCTGCAGAGCGAGCCGGAGAACCCGAGCCTGCAGGAGACGAGCCTGAGCGTGCAGCTGAGCAACCTGGGGACGGTGCGGACGCTGCGGACGAAGCAGCGGATCCAGCCGCAGAAGACGAGCGTGTACATCGAGCTGGGGAGCGACAGCAGCGAGGACACGGTGAACAAGGCGACGTACTGCAGCGTGGGGGACCAGGAGCTGCTGCAGATCACGCCGCAGGGGACGCGGGACGAGATCAGCCTGGACAGCGCGAAGAAGGCGGCGTGCGAGTTCAGCGAGACGGACGTGACGAACACGGAGCACCACCAGCCGAGCAACAACGACCTGAACACGACGGAGAAGCGGGCGGCGGAGCGGCACCCGGAGAAGTACCAGGGGAGCAGCGTGAGCAACCTGCACGTGGAGCCGTGCGGGACGAACACGCACGCGAGCAGCCTGCAGCACGAGAACAGCAGCCTGCTGCTGACGAAGGACCGGATGAACGTGGAGAAGGCGGAGTTCTGCAACAAGAGCAAGCAGCCGGGGCTGGCGCGGAGCCAGCACAACCGGTGGGCGGGGAGCAAGGAGACGTGCAACGACCGGCGGACGCCGAGCACGGAGAAGAAGGTGGACCTGAACGCGGACCCGCTGTGCGAGCGGAAGGAGTGGAACAAGCAGAAGCTGCCGTGCAGCGAGAACCCGCGGGACACGGAGGACGTGCCGTGGATCACGCTGAACAGCAGCATCCAGAAGGTGAACGAGTGGTTCAGCCGGAGCGACGAGCTGCTGGGGAGCGACGACAGCCACGACGGGGAGAGCGAGAGCAACGCGAAGGTGGCGGACGTGCTGGACGTGCTGAACGAGGTGGACGAGTACAGCGGGAGCAGCGAGAAGATCGACCTGCTGGCGAGCGACCCGCACGAGGCGCTGATCTGCAAGAGCGAGCGGGTGCACAGCAAGAGCGTGGAGAGCAACATCGAGGACAAGATCTTCGGGAAGACGTACCGGAAGAAGGCGAGCCTGCCGAACCTGAGCCACGTGACGGAGAACCTGATCATCGGGGCGTTCGTGACGGAGCCGCAGATCATCCAGGAGCGGCCGCTGACGAACAAGCTGAAGCGGAAGCGGCGGCCGACGAGCGGGCTGCACCCGGAGGACTTCATCAAGAAGGCGGACCTGGCGGTGCAGAAGACGCCGGAGATGATCAACCAGGGGACGAACCAGACGGAGCAGAACGGGCAGGTGATGAACATCACGAACAGCGGGCACGAGAACAAGACGAAGGGGGACAGCATCCAGAACGAGAAGAACCCGAACCCGATCGAGAGCCTGGAGAAGGAGAGCGCGTTCAAGACGAAGGCGGAGCCGATCAGCAGCAGCATCAGCAACATGGAGCTGGAGCTGAACATCCACAACAGCAAGGCGCCGAAGAAGAACCGGCTGCGGCGGAAGAGCAGCACGCGGCACATCCACGCGCTGGAGCTGGTGGTGAGCCGGAACCTGAGCCCGCCGAACTGCACGGAGCTGCAGATCGACAGCTGCAGCAGCAGCGAGGAGATCAAGAAGAAGAAGTACAACCAGATGCCGGTGCGGCACAGCCGGAACCTGCAGCTGATGGAGGGGAAGGAGCCGGCGACGGGGGCGAAGAAGAGCAACAAGCCGAACGAGCAGACGAGCAAGCGGCACGACAGCGACACGTTCCCGGAGCTGAAGCTGACGAACGCGCCGGGGAGCTTCACGAAGTGCAGCAACACGAGCGAGCTGAAGGAGTTCGTGAACCCGAGCCTGCCGCGGGAGGAGAAGGAGGAGAAGCTGGAGACGGTGAAGGTGAGCAACAACGCGGAGGACCCGAAGGACCTGATGCTGAGCGGGGAGCGGGTGCTGCAGACGGAGCGGAGCGTGGAGAGCAGCAGCATCAGCCTGGTGCCGGGGACGGACTACGGGACGCAGGAGAGCATCAGCCTGCTGGAGGTGAGCACGCTGGGGAAGGCGAAGACGGAGCCGAACAAGTGCGTGAGCCAGTGCGCGGCGTTCGAGAACCCGAAGGGGCTGATCCACGGGTGCAGCAAGGACAACCGGAACGACACGGAGGGGTTCAAGTACCCGCTGGGGCACGAGGTGAACCACAGCCGGGAGACGAGCATCGAGATGGAGGAGAGCGAGCTGGACGCGCAGTACCTGCAGAACACGTTCAAGGTGAGCAAGCGGCAGAGCTTCGCGCCGTTCAGCAACCCGGGGAACGCGGAGGAGGAGTGCGCGACGTTCAGCGCGCACAGCGGGAGCCTGAAGAAGCAGAGCCCGAAGGTGACGTTCGAGTGCGAGCAGAAGGAGGAGAACCAGGGGAAGAACGAGAGCAACATCAAGCCGGTGCAGACGGTGAACATCACGGCGGGGTTCCCGGTGGTGGGGCAGAAGGACAAGCCGGTGGACAACGCGAAGTGCAGCATCAAGGGGGGGAGCCGGTTCTGCCTGAGCAGCCAGTTCCGGGGGAACGAGACGGGGCTGATCACGCCGAACAAGCACGGGCTGCTGCAGAACCCGTACCGGATCCCGCCGCTGTTCCCGATCAAGAGCTTCGTGAAGACGAAGTGCAAGAAGAACCTGCTGGAGGAGAACTTCGAGGAGCACAGCATGAGCCCGGAGCGGGAGATGGGGAACGAGAACATCCCGAGCACGGTGAGCACGATCAGCCGGAACAACATCCGGGAGAACGTGTTCAAGGAGGCGAGCAGCAGCAACATCAACGAGGTGGGGAGCAGCACGAACGAGGTGGGGAGCAGCATCAACGAGATCGGGAGCAGCGACGAGAACATCCAGGCGGAGCTGGGGCGGAACCGGGGGCCGAAGCTGAACGCGATGCTGCGGCTGGGGGTGCTGCAGCCGGAGGTGTACAAGCAGAGCCTGCCGGGGAGCAACTGCAAGCACCCGGAGATCAAGAAGCAGGAGTACGAGGAGGTGGTGCAGACGGTGAACACGGACTTCAGCCCGTACCTGATCAGCGACAACCTGGAGCAGCCGATGGGGAGCAGCCACGCGAGCCAGGTGTGCAGCGAGACGCCGGACGACCTGCTGGACGACGGGGAGATCAAGGAGGACACGAGCTTCGCGGAGAACGACATCAAGGAGAGCAGCGCGGTGTTCAGCAAGAGCGTGCAGAAGGGGGAGCTGAGCCGGAGCCCGAGCCCGTTCACGCACACGCACCTGGCGCAGGGGTACCGGCGGGGGGCGAAGAAGCTGGAGAGCAGCGAGGAGAACCTGAGCAGCGAGGACGAGGAGCTGCCGTGCTTCCAGCACCTGCTGTTCGGGAAGGTGAACAACATCCCGAGCCAGAGCACGCGGCACAGCACGGTGGCGACGGAGTGCCTGAGCAAGAACACGGAGGAGAACCTGCTGAGCCTGAAGAACAGCCTGAACGACTGCAGCAACCAGGTGATCCTGGCGAAGGCGAGCCAGGAGCACCACCTGAGCGAGGAGACGAAGTGCAGCGCGAGCCTGTTCAGCAGCCAGTGCAGCGAGCTGGAGGACCTGACGGCGAACACGAACACGCAGGACCCGTTCCTGATCGGGAGCAGCAAGCAGATGCGGCACCAGAGCGAGAGCCAGGGGGTGGGGCTGAGCGACAAGGAGCTGGTGAGCGACGACGAGGAGCGGGGGACGGGGCTGGAGGAGAACAACCAGGAGGAGCAGAGCATGGACAGCAACCTGGGGGAGGCGGCGAGCGGGTGCGAGAGCGAGACGAGCGTGAGCGAGGACTGCAGCGGGCTGAGCAGCCAGAGCGACATCCTGACGACGCAGCAGCGGGACACGATGCAGCACAACCTGATCAAGCTGCAGCAGGAGATGGCGGAGCTGGAGGCGGTGCTGGAGCAGCACGGGAGCCAGCCGAGCAACAGCTACCCGAGCATCATCAGCGACAGCAGCGCGCTGGAGGACCTGCGGAACCCGGAGCAGAGCACGAGCGAGAAGGCGGTGCTGACGAGCCAGAAGAGCAGCGAGTACCCGATCAGCCAGAACCCGGAGGGGCTGAGCGCGGACAAGTTCGAGGTGAGCGCGGACAGCAGCACGAGCAAGAACAAGGAGCCGGGGGTGGAGCGGAGCAGCCCGAGCAAGTGCCCGAGCCTGGACGACCGGTGGTACATGCACAGCTGCAGCGGGAGCCTGCAGAACCGGAACTACCCGAGCCAGGAGGAGCTGATCAAGGTGGTGGACGTGGAGGAGCAGCAGCTGGAGGAGAGCGGGCCGCACGACCTGACGGAGACGAGCTACCTGCCGCGGCAGGACCTGGAGGGGACGCCGTACCTGGAGAGCGGGATCAGCCTGTTCAGCGACGACCCGGAGAGCGACCCGAGCGAGGACCGGGCGCCGGAGAGCGCGCGGGTGGGGAACATCCCGAGCAGCACGAGCGCGCTGAAGGTGCCGCAGCTGAAGGTGGCGGAGAGCGCGCAGAGCCCGGCGGCGGCGCACACGACGGACACGGCGGGGTACAACGCGATGGAGGAGAGCGTGAGCCGGGAGAAGCCGGAGCTGACGGCGAGCACGGAGCGGGTGAACAAGCGGATGAGCATGGTGGTGAGCGGGCTGACGCCGGAGGAGTTCATGCTGGTGTACAAGTTCGCGCGGAAGCACCACATCACGCTGACGAACCTGATCACGGAGGAGACGACGCACGTGGTGATGAAGACGGACGCGGAGTTCGTGTGCGAGCGGACGCTGAAGTACTTCCTGGGGATCGCGGGGGGGAAGTGGGTGGTGAGCTACTTCTGGGTGACGCAGAGCATCAAGGAGCGGAAGATGCTGAACGAGCACGACTTCGAGGTGCGGGGGGACGTGGTGAACGGGCGGAACCACCAGGGGCCGAAGCGGGCGCGGGAGAGCCAGGACCGGAAGATCTTCCGGGGGCTGGAGATCTGCTGCTACGGGCCGTTCACGAACATGCCGACGGACCAGCTGGAGTGGATGGTGCAGCTGTGCGGGGCGAGCGTGGTGAAGGAGCTGAGCAGCTTCACGCTGGGGACGGGGGTGCACCCGATCGTGGTGGTGCAGCCGGACGCGTGGACGGAGGACAACGGGTTCCACGCGATCGGGCAGATGTGCGAGGCGCCGGTGGTGACGCGGGAGTGGGTGCTGGACAGCGTGGCGCTGTACCAGTGCCAGGAGCTGGACACGTACCTGATCCCGCAGATCCCGCACAGCCACTACTGA\n"
          ]
        },
        {
          "data": {
            "text/plain": [
              "1"
            ]
          },
          "execution_count": 46,
          "metadata": {},
          "output_type": "execute_result"
        }
      ],
      "source": [
        "unparsed = SeqIO.read('content/cds.fna','fasta')\n",
        "sequence = str(unparsed.seq)\n",
        "\n",
        "randomized_sequence = seq_rand(sequence)\n",
        "maximized_sequence = seq_maxGC(sequence)\n",
        "\n",
        "recR = SeqRecord(\n",
        "    Seq(\n",
        "        randomized_sequence,\n",
        "    ),\n",
        ")\n",
        "\n",
        "recGC = SeqRecord(\n",
        "    Seq(\n",
        "        maximized_sequence,\n",
        "    ),\n",
        ")\n",
        "\n",
        "print(\"Secuencia randomizada:\\n\",maximized_sequence)\n",
        "print(\"\\nSecuencia maximizada:\\n\",maximized_sequence)\n",
        "\n",
        "SeqIO.write(recR, \"content/cds_random.fna\", \"fasta\")\n",
        "SeqIO.write(recGC, \"content/cds_maxGC.fna\", \"fasta\")"
      ]
    },
    {
      "attachments": {},
      "cell_type": "markdown",
      "metadata": {
        "id": "FdIcR7AYJ4og"
      },
      "source": [
        "### d)\n",
        "\n",
        "En base a una investigación realizada para comprender la distribución que se da dentro de una secuencia para los porcentajes de GC solo se pudo hallar una que menciona una distribución clusterizada a lo largo de la secuencia, en este caso a partir de la [Siguiente publicación](https://www.researchgate.net/publication/12570323_SEGMENT_identifying_compositional_domains_in_DNA_sequences) Realizada por Oliver et. al. (2000). El cual plantea una distribución en un estilo de clusters los cuales con largas partes que pueden tener CG y otras secciones que no. Se adjunta la imagen del gráfico presentado para ello:\n",
        "<br><br>\n",
        "\n",
        "![Variación GC](content/GC-variation-along-the-DNA-sequence-of-the-lambda-phage-genome.png \"Grafico de distribución porcentaje GC a lo largo de una secuencia\")\n",
        "\n",
        "<br><br>\n",
        "\n",
        "Con esto, se nos ocurre la siguiente metodología para trabajar:\n",
        "- 1. Calcular el tamaño de la sequencia codificadora, excluyendo el codón de inicio y stop.\n",
        "- 2. Obtener el total de nuecleótidos 'G' y 'C' y checkear el porcentaje de la sequencia al que corresponden.\n",
        "- 3. Tomar al azar codones de la lista, teniendo una mayor probabilidad de seleccionar aquellos que tengan 'G' y 'C'.\n",
        "- 4. Una vez elegido el codón. Maximizarlo, si queda igual (en caso de ser 'GC'), aplicar este ítem de nuevo para alguno de los codones vecinos (si se repite, continuar al mismo sentido con el resto de vecinos que se decidió para evitar bucles).\n",
        "- 5. Repetir 3 y 4 de manera iterativa, y por cada iteración verificar el porcentaje hasta llegar al deseado para terminar el proceso.\n",
        "\n",
        "De esta manera se busca crear una distribución semejante a la investigada. De forma que se construyan clústers como el del gráfico, el cual beneficie la creación de GC en un sector que ya los tenga."
      ]
    },
    {
      "attachments": {},
      "cell_type": "markdown",
      "metadata": {
        "id": "F3WtFIPLK2nw"
      },
      "source": [
        "***\n",
        "# Pregunta 4"
      ]
    },
    {
      "attachments": {},
      "cell_type": "markdown",
      "metadata": {
        "id": "rm6ogFYDK8LN"
      },
      "source": [
        "### a)\n",
        "\n",
        "Se implementa a partir de la función original, un despiece para crear dos funciones aparte que serán llamadas para hacer lo solicitado, siendo en este caso top3 y last3 para entregar los 3 ORFs con porcentaje mas alto y los 3 con porcentaje más bajo."
      ]
    },
    {
      "cell_type": "code",
      "execution_count": 32,
      "metadata": {
        "id": "GM9AsYx5mjMn"
      },
      "outputs": [],
      "source": [
        "from math import inf\n",
        "\n",
        "# Porcentaje más alto\n",
        "def top3(proteins, seq):\n",
        "  first = ()\n",
        "  second = ()\n",
        "  third = ()\n",
        "  f_score = 0\n",
        "  s_score = 0\n",
        "  t_score =0\n",
        "\n",
        "  for start, end in proteins:\n",
        "    c = seq[start:end]\n",
        "    s = c.count('C')+c.count('G')\n",
        "    if s > f_score:\n",
        "      first = (start, end)\n",
        "      f_score = s\n",
        "    elif s > s_score:  \n",
        "      second = (start, end)\n",
        "      s_score = s\n",
        "    elif s > t_score:\n",
        "      third = (start, end)\n",
        "      t_score = s\n",
        "\n",
        "  return first, second, third\n",
        "\n",
        "# Porcentaje mas bajo\n",
        "def last3(proteins, seq):\n",
        "  last3 = ()\n",
        "  last2 = ()\n",
        "  last = ()\n",
        "  score_3 = inf\n",
        "  score_2 = inf\n",
        "  score_1 = inf\n",
        "\n",
        "  for start, end in proteins:\n",
        "    c = seq[start:end]\n",
        "    s = c.count('C')+c.count('G')\n",
        "    if s < score_1:\n",
        "      last = (start, end)\n",
        "      score_1 = s\n",
        "    elif s < score_2:  \n",
        "      last2 = (start, end)\n",
        "      score_2 = s\n",
        "    elif s < score_3:\n",
        "      last3 = (start, end)\n",
        "      score_3 = s\n",
        "\n",
        "  return last3, last2, last"
      ]
    },
    {
      "cell_type": "code",
      "execution_count": 33,
      "metadata": {
        "colab": {
          "base_uri": "https://localhost:8080/"
        },
        "id": "TT3IejJGvoE-",
        "outputId": "dc64bd28-47b3-4e4a-d53e-966357b69b38"
      },
      "outputs": [
        {
          "name": "stdout",
          "output_type": "stream",
          "text": [
            "NQIQGVICSPDSGEFMVTFETVMEIKILHK...GVA - length 355, strand 1, 41:1109\n",
            "WDVKTVTGVLHHPFHLTFSLCPEGATQSGR...VKR - length 111, strand -1, 491:827\n",
            "KSGELRQTPPASSTLHLRLILQRSGVMMEL...NPE - length 285, strand 1, 1030:1888\n",
            "RALTGLSAPGIRSQTSCDRLRELRYVPVSL...PLQ - length 119, strand -1, 2830:3190\n",
            "RRKEHVSKKRRPQKRPRRRRFFHRLRPPDE...PTR - length 128, strand 1, 3470:3857\n",
            "GLNCSFFSICNWKFIDYINRLFQIIYLCKN...YYH - length 176, strand 1, 4249:4780\n",
            "RGIFMSDTMVVNGSGGVPAFLFSGSTLSSY...LLK - length 361, strand -1, 4814:5900\n",
            "VKKILYIKALFLCTVIKLRRFIFSVNNMKF...DLP - length 165, strand 1, 5923:6421\n",
            "LSHTVTDFTDQMAQVGLCQCVNVFLDEVTG...KAA - length 107, strand -1, 5974:6298\n",
            "GCLMKKSSIVATIITILSGSANAASSQLIP...YRF - length 315, strand 1, 6654:7602\n",
            "IYSTSEHTGEQVMRTLDEVIASRSPESQTR...FHV - length 111, strand -1, 7788:8124\n",
            "WGKLQVIGLSMWMVLFSQRFDDWLNEQEDA...ESK - length 125, strand -1, 8087:8465\n",
            "TGKQNSCQMSAIWQLRQNTATKTRQNRARI...AIK - length 100, strand 1, 8741:9044\n",
            "QGSGYAFPHASILSGIAMSHFYFLVLHAVK...CSD - length 114, strand -1, 9264:9609\n"
          ]
        }
      ],
      "source": [
        "record = SeqIO.read(\"content/NC_005816.fna\", \"fasta\")\n",
        "table = 11\n",
        "min_pro_len = 100\n",
        "\n",
        "\n",
        "def find_orfs_with_trans(seq, trans_table, min_protein_length):\n",
        "    answer = []\n",
        "    seq_len = len(seq)\n",
        "    for strand, nuc in [(+1, seq), (-1, seq.reverse_complement())]:\n",
        "        for frame in range(3):\n",
        "            trans = nuc[frame:].translate(trans_table)\n",
        "            trans_len = len(trans)\n",
        "            aa_start = 0\n",
        "            aa_end = 0\n",
        "            while aa_start < trans_len:\n",
        "                aa_end = trans.find(\"*\", aa_start)\n",
        "                if aa_end == -1:\n",
        "                    aa_end = trans_len\n",
        "                if aa_end - aa_start >= min_protein_length:\n",
        "                    if strand == 1:\n",
        "                        start = frame + aa_start * 3\n",
        "                        end = min(seq_len, frame + aa_end * 3 + 3)\n",
        "                    else:\n",
        "                        start = seq_len - frame - aa_end * 3 - 3\n",
        "                        end = seq_len - frame - aa_start * 3\n",
        "                    answer.append((start, end, strand, trans[aa_start:aa_end]))\n",
        "                aa_start = aa_end + 1\n",
        "    answer.sort()\n",
        "    return answer\n",
        "\n",
        "\n",
        "orf_list = find_orfs_with_trans(record.seq, table, min_pro_len)\n",
        "proteins = []\n",
        "for start, end, strand, pro in orf_list:\n",
        "  proteins.append((start,end))\n",
        "\n",
        "  print(\n",
        "      \"%s...%s - length %i, strand %i, %i:%i\"\n",
        "      % (pro[:30], pro[-3:], len(pro), strand, start, end)\n",
        "  )"
      ]
    },
    {
      "cell_type": "code",
      "execution_count": 34,
      "metadata": {
        "colab": {
          "base_uri": "https://localhost:8080/"
        },
        "id": "3RUxskoL6dV4",
        "outputId": "f42a6054-9ac4-4351-d875-2d70d7fbf2ae"
      },
      "outputs": [
        {
          "name": "stdout",
          "output_type": "stream",
          "text": [
            "Top 3 Más alto:\n",
            " ((41, 1109), (1030, 1888), (4814, 5900))\n",
            "...\n",
            "Top 3 más bajo:\n",
            " ((8087, 8465), (9264, 9609), (8741, 9044))\n"
          ]
        }
      ],
      "source": [
        "t3 = top3(proteins, record.seq)\n",
        "l3 = last3(proteins, record.seq)\n",
        "\n",
        "print(\"Top 3 Más alto:\\n\",t3)\n",
        "print(\"...\")\n",
        "print(\"Top 3 más bajo:\\n\",l3)"
      ]
    },
    {
      "attachments": {},
      "cell_type": "markdown",
      "metadata": {
        "id": "8gilcH_76pmf"
      },
      "source": [
        "***\n",
        "# Pregunta 5"
      ]
    },
    {
      "attachments": {},
      "cell_type": "markdown",
      "metadata": {
        "id": "kdnyhwWJ6vqY"
      },
      "source": [
        "### a) y b)\n",
        "\n",
        "Se crea el programa a partir de la librería random de python para llevar a cabo la solicitud, utilizando Biopython para extraer las secuencias. Almacenando el resultado en un archivo fasta."
      ]
    },
    {
      "cell_type": "code",
      "execution_count": 48,
      "metadata": {
        "id": "B0an9erT6x6N"
      },
      "outputs": [
        {
          "data": {
            "text/plain": [
              "1"
            ]
          },
          "execution_count": 48,
          "metadata": {},
          "output_type": "execute_result"
        }
      ],
      "source": [
        "from random import shuffle\n",
        "\n",
        "record = SeqIO.read(\"content/plasmido.fna\", \"fasta\")\n",
        "\n",
        "recordL = list(record.seq)\n",
        "shuffle(recordL)\n",
        "rand_seq = ''.join(recordL)\n",
        "\n",
        "rRec = SeqRecord(\n",
        "    Seq(\n",
        "        rand_seq,\n",
        "    ),\n",
        ")\n",
        "SeqIO.write(rRec, \"content/rand_plasmido.fna\", \"fasta\")"
      ]
    },
    {
      "attachments": {},
      "cell_type": "markdown",
      "metadata": {
        "id": "hY1OXOTpYMHe"
      },
      "source": [
        "### c)"
      ]
    },
    {
      "attachments": {},
      "cell_type": "markdown",
      "metadata": {
        "id": "hKgQ84DcYTld"
      },
      "source": [
        "Genoma orignial:\n",
        "\n",
        "![plasmido_normal.PNG](content/plasmido_normal.PNG)"
      ]
    },
    {
      "attachments": {},
      "cell_type": "markdown",
      "metadata": {
        "id": "6zpwIaCUYWkV"
      },
      "source": [
        "Genoma randomizado:\n",
        "\n",
        "![plasmido_rand.PNG](content/plasmido_rand.PNG)"
      ]
    },
    {
      "attachments": {},
      "cell_type": "markdown",
      "metadata": {
        "id": "IJ2tIxvtY_xK"
      },
      "source": [
        "Se evidencia inmediatamente que hay muchos más candidatos en el gen original del plásmido.\n",
        "\n",
        "Una de las razones que podrian influir en esto es el hecho de que es necesario un codón de inicio (AUG), el cual tiene una probabilidad de 1/64 de ocurrir, y un codón de terminación, el cual tiene una probabilidad de 3/64 de ocurrir."
      ]
    }
  ],
  "metadata": {
    "colab": {
      "provenance": []
    },
    "kernelspec": {
      "display_name": "Python 3",
      "language": "python",
      "name": "python3"
    },
    "language_info": {
      "codemirror_mode": {
        "name": "ipython",
        "version": 3
      },
      "file_extension": ".py",
      "mimetype": "text/x-python",
      "name": "python",
      "nbconvert_exporter": "python",
      "pygments_lexer": "ipython3",
      "version": "3.11.1"
    },
    "vscode": {
      "interpreter": {
        "hash": "569dbe3c2a9284b6f6666f4e104396fc384dc9534bcb388329c61f5fccc6acf8"
      }
    }
  },
  "nbformat": 4,
  "nbformat_minor": 0
}
