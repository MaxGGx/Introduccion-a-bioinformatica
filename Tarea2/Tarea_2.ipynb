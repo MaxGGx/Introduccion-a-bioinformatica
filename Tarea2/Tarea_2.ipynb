{
  "cells": [
    {
      "attachments": {},
      "cell_type": "markdown",
      "metadata": {},
      "source": [
        "# Desarrollo Tarea 2 - Bioinformática\n",
        "\n",
        "- Vicente Álvarez\n",
        "- Iñaki Oyarzun M.\n",
        "\n",
        "\n",
        "### Preparación de librerias\n",
        "Se procede con la instalacion de las librerias a utilizar como parte del notebook"
      ]
    },
    {
      "cell_type": "code",
      "execution_count": 26,
      "metadata": {
        "colab": {
          "base_uri": "https://localhost:8080/"
        },
        "id": "1zlBAuVt3Y4V",
        "outputId": "4c6057b3-7831-4ba5-9b03-8d31cc8ad923"
      },
      "outputs": [
        {
          "name": "stdout",
          "output_type": "stream",
          "text": [
            "Requirement already satisfied: biopython in c:\\users\\inaki\\appdata\\local\\programs\\python\\python311\\lib\\site-packages (1.80)\n",
            "Requirement already satisfied: numpy in c:\\users\\inaki\\appdata\\local\\programs\\python\\python311\\lib\\site-packages (from biopython) (1.23.5)\n"
          ]
        }
      ],
      "source": [
        "!pip install biopython"
      ]
    },
    {
      "cell_type": "code",
      "execution_count": 27,
      "metadata": {
        "id": "h5bASjGf2Xq2"
      },
      "outputs": [],
      "source": [
        "from Bio.Data.CodonTable import unambiguous_dna_by_id\n",
        "from Bio import SeqIO\n",
        "from random import choice\n",
        "from Bio.Seq import Seq\n",
        "from Bio.SeqRecord import SeqRecord"
      ]
    },
    {
      "cell_type": "code",
      "execution_count": 28,
      "metadata": {
        "id": "h6TbJK8g79Gf"
      },
      "outputs": [],
      "source": [
        "def altcodons(codon, table):\n",
        "    \"\"\"List codons that code for the same aminonacid / are also stop.\n",
        "\n",
        "    @param codon\n",
        "    @table code table id\n",
        "    @return list of codons\n",
        "\n",
        "    \"\"\"\n",
        "    plus4 = [[\"CGT\",\"CGC\",\"CGA\",\"CGG\",\"AGA\",\"AGG\"],[\"CTT\",\"CTC\",\"CTA\",\"CTG\",\"TTA\",\"TTG\"],[\"TCT\",\"TCC\",\"TCA\",\"TCG\",\"AGT\",\"AGC\"]]\n",
        "    for l in plus4:\n",
        "      if codon in l:\n",
        "        return l\n",
        "\n",
        "    tab = unambiguous_dna_by_id[table]\n",
        "\n",
        "    if codon in tab.stop_codons:\n",
        "        return tab.stop_codons\n",
        "\n",
        "    try:\n",
        "        aa = tab.forward_table[codon]\n",
        "    except:\n",
        "        return []\n",
        "\n",
        "    return [\n",
        "        k\n",
        "        for (k, v) in tab.forward_table.items()\n",
        "        if v == aa and k[0] == codon[0] and k[1] == codon[1]\n",
        "    ]\n",
        "\n",
        "\n",
        "def degeneration(codon, table):\n",
        "    \"\"\"Determine how many codons code for the same amino acid / are also stop\n",
        "\n",
        "    @param codon the codon\n",
        "    @param table code table id\n",
        "    @param the number of codons also coding for the amino acid codon codes for\n",
        "\n",
        "    \"\"\"\n",
        "    return len(altcodons(codon, table))\n",
        "\n",
        "\n",
        "def is_x_degenerated(x, codon, table):\n",
        "    \"\"\"Determine if codon is x-fold degenerated.\n",
        "\n",
        "    @param codon the codon\n",
        "    @param table code table id\n",
        "    @param true if x <= the degeneration of the codon\n",
        "\n",
        "    \"\"\"\n",
        "    return x <= len(altcodons(codon, table))\n",
        "\n",
        "\n",
        "def degenerated_subseq(seq, x, table):\n",
        "    \"\"\"Get a subsequence consisting of the x-fold degenerated codons only.\"\"\"\n",
        "    data = \"\"\n",
        "    for i in range(0, len(seq), 3):\n",
        "        codon = seq[i : i + 3].tostring()\n",
        "        if is_x_degenerated(x, codon, table):\n",
        "            data += codon\n",
        "    return data"
      ]
    },
    {
      "attachments": {},
      "cell_type": "markdown",
      "metadata": {},
      "source": [
        "***\n",
        "# Pregunta 1\n",
        "\n",
        "### a)\n",
        "Para el alineamiento de las secuencias, se vuelven a generar el blasting basado en los datos indicados en la tarea anterior, se indica en la siguiente foto los resultados junto a los rangos en los que se encontró. \n",
        "<br><br>\n",
        "![Blasting](content/BLAST.png \"Resultados de realización BLAST, junto a rangos hallados\")<br>\n",
        "Resultados Blasting\n",
        "<br><br>\n",
        "Luego se decide hacer uso de Kalign, con la siguiente configuración y archivo unificado de las primeras 5 secuencias que entrega BLAST:\n",
        "<br><br>\n",
        "![Alineamiento](content/AlineamientoHecho.png \"Archivo para alineaminto en Kalign utilizado\")\n",
        "<br>\n",
        "Alineamiento\n",
        "<br><br>\n",
        "![Kalign](content/Kalign.png \"Configuración Kalign utilizada\")\n",
        "<br>\n",
        "Configuración Kalign\n",
        "<br><br><br>\n",
        "De los desarrollos realizados, Kalign entrega los siguientes resultados:\n",
        "<br><br><br>\n",
        "![Alineamiento 1](content/P1_L1.png \"Alineamiento de la proteína 1\")\n",
        "<br>\n",
        "Alineamiento proteína 1\n",
        "<br><br>\n",
        "![Alineamiento 2](content/P1_L2.png \"Alineamiento de la proteína 2\")\n",
        "<br>\n",
        "Alineamiento proteína 2\n",
        "<br><br>\n",
        "![Alineamiento 3](content/P1_L3.png \"Alineamiento de la proteína 3\")\n",
        "<br>\n",
        "Alineamiento proteína 3\n",
        "<br><br>\n",
        "![Alineamiento 4](content/P1_L4.png \"Alineamiento de la proteína 4\")\n",
        "<br>\n",
        "Alineamiento proteína 4\n",
        "<br><br>\n",
        "![Alineamiento 5](content/P1_L5.png \"Alineamiento de la proteína 5\")\n",
        "<br>\n",
        "Alineamiento proteína 5\n",
        "<br><br><br>\n",
        "Notar que de las 5 proteinas alineadas, solo la proteina 1, 4 y 5 contienen los segmentos con el nombre ingresado (subrayado). En cambio las otras no se encontraban como parte del alineamiento.\n",
        "\n",
        "### b)\n",
        "Para este caso, se hace uso de los siguientes segmentos (Obtenidos de la imagen anterior de BLAST):\n",
        "\n",
        "- Proteina 1: VKNAKIALVARE\n",
        "- Proteina 2: VIDIGKTNAKVALVARES\n",
        "- Proteina 3: VIDIGKTNAKVALVARES\n",
        "- Proteina 4: VINSKIALIDRGSC\n",
        "- Proteina 5: INGKIALIERGSCN\n",
        "\n",
        "Al alinearlos nuevamente utilizando Kalign, se obtiene lo siguiente:\n",
        "<br><br>\n",
        "![Alineamiento](content/P1_L6.png \"Alineamiento de los segmentos de las 5 proteínas\")\n",
        "<br>\n",
        "Alineamiento de las 5 proteínas\n",
        "<br><br><br>\n",
        "### c)\n",
        "Usando los alineamientos se construye y dibuja el HMM\n",
        "<br>\n",
        "Alineamiento<br>\n",
        "<br>\n",
        "![Alineamiento](content/Alignment.png \"Alineamiento de los segmentos de las 5 proteínas\")\n",
        "<br><br>\n",
        "Se plantea una expresión regular para estudiar los patrones de la siguiente manera:\n",
        "<br><br>\n",
        "![Regex](content/Regex.png \"Expresion regular para estudio de patrones\")\n",
        "<br>\n",
        "Expresion regular para estudio de patrones\n",
        "<br><br>\n",
        "Siendo de la siguiente forma:<br>\n",
        "\\* [KTI] N [ASG] K [VI] AL [VI] [ADE] R [EG] S *"
      ]
    },
    {
      "attachments": {},
      "cell_type": "markdown",
      "metadata": {
        "id": "EDad8U56JAnT"
      },
      "source": [
        "***\n",
        "# Pregunta 3"
      ]
    },
    {
      "attachments": {},
      "cell_type": "markdown",
      "metadata": {
        "id": "7eIBS0_LJXSG"
      },
      "source": [
        "### a) \n",
        "Para el desarrollo de esta pregunta, se toma por lo entendido en clase que los codones tanto de inicio y fin no son tomados en cuenta."
      ]
    },
    {
      "cell_type": "code",
      "execution_count": 43,
      "metadata": {
        "id": "IkbuL3V-4l8l"
      },
      "outputs": [],
      "source": [
        "def split_codon(seq):\n",
        "  split_seq = [seq[i:i+3] for i in range(0, len(seq), 3)]\n",
        "  return split_seq\n",
        "\n",
        "def seq_rand(seq):\n",
        "  \"\"\"Randomiza los codónes de una secuencia codificadora por sus homologos\n",
        "\n",
        "  @param seq la secuencia codificadora a randomizar (string)\n",
        "  @param la secuencia seq randomizada\n",
        "  \"\"\"\n",
        "  codones = split_codon(seq)\n",
        "  for i in range(1, len(codones)):\n",
        "    options = altcodons(codones[i], 1)\n",
        "    codones[i] = choice(options)\n",
        "  res = \"\".join(codones)\n",
        "  return res"
      ]
    },
    {
      "attachments": {},
      "cell_type": "markdown",
      "metadata": {
        "id": "Vd3MYvxRJcjx"
      },
      "source": [
        "### b)"
      ]
    },
    {
      "cell_type": "code",
      "execution_count": 41,
      "metadata": {
        "id": "wdJWlertJidb"
      },
      "outputs": [],
      "source": [
        "def nucleo_score(codons):\n",
        "  best_codon = \"\"\n",
        "  max_score = 0\n",
        "  for c in codons:\n",
        "    s = c.count('C')+c.count('G')\n",
        "    if s >= max_score:\n",
        "      best_codon = c\n",
        "      max_score = s\n",
        "  return best_codon\n",
        "\n",
        "def seq_maxGC(seq):\n",
        "  \"\"\"Aumenta el porcentaje de bases G y C\n",
        "\n",
        "  @param seq la secuencia codificadora a alterar (string)\n",
        "  @param la secuencia seq maximizada para G y C\n",
        "  \"\"\"\n",
        "  codones = split_codon(seq)\n",
        "  for i in range(1, len(codones)):\n",
        "    options = altcodons(codones[i], 1)\n",
        "    b = nucleo_score(options)\n",
        "    codones[i] = b\n",
        "  res = \"\".join(codones)\n",
        "  return res"
      ]
    },
    {
      "attachments": {},
      "cell_type": "markdown",
      "metadata": {
        "id": "oGSWeMZuQF1W"
      },
      "source": [
        "### c)"
      ]
    },
    {
      "cell_type": "code",
      "execution_count": 46,
      "metadata": {
        "id": "iE7-uI0GQEt2"
      },
      "outputs": [
        {
          "name": "stdout",
          "output_type": "stream",
          "text": [
            "Secuencia randomizada:\n",
            " ATGGACCTGAGCGCGCTGCGGGTGGAGGAGGTGCAGAACGTGATCAACGCGATGCAGAAGATCCTGGAGTGCCCGATCTGCCTGGAGCTGATCAAGGAGCCGGTGAGCACGAAGTGCGACCACATCTTCTGCAAGTTCTGCATGCTGAAGCTGCTGAACCAGAAGAAGGGGCCGAGCCAGTGCCCGCTGTGCAAGAACGACATCACGAAGCGGAGCCTGCAGGAGAGCACGCGGTTCAGCCAGCTGGTGGAGGAGCTGCTGAAGATCATCTGCGCGTTCCAGCTGGACACGGGGCTGGAGTACGCGAACAGCTACAACTTCGCGAAGAAGGAGAACAACAGCCCGGAGCACCTGAAGGACGAGGTGAGCATCATCCAGAGCATGGGGTACCGGAACCGGGCGAAGCGGCTGCTGCAGAGCGAGCCGGAGAACCCGAGCCTGCAGGAGACGAGCCTGAGCGTGCAGCTGAGCAACCTGGGGACGGTGCGGACGCTGCGGACGAAGCAGCGGATCCAGCCGCAGAAGACGAGCGTGTACATCGAGCTGGGGAGCGACAGCAGCGAGGACACGGTGAACAAGGCGACGTACTGCAGCGTGGGGGACCAGGAGCTGCTGCAGATCACGCCGCAGGGGACGCGGGACGAGATCAGCCTGGACAGCGCGAAGAAGGCGGCGTGCGAGTTCAGCGAGACGGACGTGACGAACACGGAGCACCACCAGCCGAGCAACAACGACCTGAACACGACGGAGAAGCGGGCGGCGGAGCGGCACCCGGAGAAGTACCAGGGGAGCAGCGTGAGCAACCTGCACGTGGAGCCGTGCGGGACGAACACGCACGCGAGCAGCCTGCAGCACGAGAACAGCAGCCTGCTGCTGACGAAGGACCGGATGAACGTGGAGAAGGCGGAGTTCTGCAACAAGAGCAAGCAGCCGGGGCTGGCGCGGAGCCAGCACAACCGGTGGGCGGGGAGCAAGGAGACGTGCAACGACCGGCGGACGCCGAGCACGGAGAAGAAGGTGGACCTGAACGCGGACCCGCTGTGCGAGCGGAAGGAGTGGAACAAGCAGAAGCTGCCGTGCAGCGAGAACCCGCGGGACACGGAGGACGTGCCGTGGATCACGCTGAACAGCAGCATCCAGAAGGTGAACGAGTGGTTCAGCCGGAGCGACGAGCTGCTGGGGAGCGACGACAGCCACGACGGGGAGAGCGAGAGCAACGCGAAGGTGGCGGACGTGCTGGACGTGCTGAACGAGGTGGACGAGTACAGCGGGAGCAGCGAGAAGATCGACCTGCTGGCGAGCGACCCGCACGAGGCGCTGATCTGCAAGAGCGAGCGGGTGCACAGCAAGAGCGTGGAGAGCAACATCGAGGACAAGATCTTCGGGAAGACGTACCGGAAGAAGGCGAGCCTGCCGAACCTGAGCCACGTGACGGAGAACCTGATCATCGGGGCGTTCGTGACGGAGCCGCAGATCATCCAGGAGCGGCCGCTGACGAACAAGCTGAAGCGGAAGCGGCGGCCGACGAGCGGGCTGCACCCGGAGGACTTCATCAAGAAGGCGGACCTGGCGGTGCAGAAGACGCCGGAGATGATCAACCAGGGGACGAACCAGACGGAGCAGAACGGGCAGGTGATGAACATCACGAACAGCGGGCACGAGAACAAGACGAAGGGGGACAGCATCCAGAACGAGAAGAACCCGAACCCGATCGAGAGCCTGGAGAAGGAGAGCGCGTTCAAGACGAAGGCGGAGCCGATCAGCAGCAGCATCAGCAACATGGAGCTGGAGCTGAACATCCACAACAGCAAGGCGCCGAAGAAGAACCGGCTGCGGCGGAAGAGCAGCACGCGGCACATCCACGCGCTGGAGCTGGTGGTGAGCCGGAACCTGAGCCCGCCGAACTGCACGGAGCTGCAGATCGACAGCTGCAGCAGCAGCGAGGAGATCAAGAAGAAGAAGTACAACCAGATGCCGGTGCGGCACAGCCGGAACCTGCAGCTGATGGAGGGGAAGGAGCCGGCGACGGGGGCGAAGAAGAGCAACAAGCCGAACGAGCAGACGAGCAAGCGGCACGACAGCGACACGTTCCCGGAGCTGAAGCTGACGAACGCGCCGGGGAGCTTCACGAAGTGCAGCAACACGAGCGAGCTGAAGGAGTTCGTGAACCCGAGCCTGCCGCGGGAGGAGAAGGAGGAGAAGCTGGAGACGGTGAAGGTGAGCAACAACGCGGAGGACCCGAAGGACCTGATGCTGAGCGGGGAGCGGGTGCTGCAGACGGAGCGGAGCGTGGAGAGCAGCAGCATCAGCCTGGTGCCGGGGACGGACTACGGGACGCAGGAGAGCATCAGCCTGCTGGAGGTGAGCACGCTGGGGAAGGCGAAGACGGAGCCGAACAAGTGCGTGAGCCAGTGCGCGGCGTTCGAGAACCCGAAGGGGCTGATCCACGGGTGCAGCAAGGACAACCGGAACGACACGGAGGGGTTCAAGTACCCGCTGGGGCACGAGGTGAACCACAGCCGGGAGACGAGCATCGAGATGGAGGAGAGCGAGCTGGACGCGCAGTACCTGCAGAACACGTTCAAGGTGAGCAAGCGGCAGAGCTTCGCGCCGTTCAGCAACCCGGGGAACGCGGAGGAGGAGTGCGCGACGTTCAGCGCGCACAGCGGGAGCCTGAAGAAGCAGAGCCCGAAGGTGACGTTCGAGTGCGAGCAGAAGGAGGAGAACCAGGGGAAGAACGAGAGCAACATCAAGCCGGTGCAGACGGTGAACATCACGGCGGGGTTCCCGGTGGTGGGGCAGAAGGACAAGCCGGTGGACAACGCGAAGTGCAGCATCAAGGGGGGGAGCCGGTTCTGCCTGAGCAGCCAGTTCCGGGGGAACGAGACGGGGCTGATCACGCCGAACAAGCACGGGCTGCTGCAGAACCCGTACCGGATCCCGCCGCTGTTCCCGATCAAGAGCTTCGTGAAGACGAAGTGCAAGAAGAACCTGCTGGAGGAGAACTTCGAGGAGCACAGCATGAGCCCGGAGCGGGAGATGGGGAACGAGAACATCCCGAGCACGGTGAGCACGATCAGCCGGAACAACATCCGGGAGAACGTGTTCAAGGAGGCGAGCAGCAGCAACATCAACGAGGTGGGGAGCAGCACGAACGAGGTGGGGAGCAGCATCAACGAGATCGGGAGCAGCGACGAGAACATCCAGGCGGAGCTGGGGCGGAACCGGGGGCCGAAGCTGAACGCGATGCTGCGGCTGGGGGTGCTGCAGCCGGAGGTGTACAAGCAGAGCCTGCCGGGGAGCAACTGCAAGCACCCGGAGATCAAGAAGCAGGAGTACGAGGAGGTGGTGCAGACGGTGAACACGGACTTCAGCCCGTACCTGATCAGCGACAACCTGGAGCAGCCGATGGGGAGCAGCCACGCGAGCCAGGTGTGCAGCGAGACGCCGGACGACCTGCTGGACGACGGGGAGATCAAGGAGGACACGAGCTTCGCGGAGAACGACATCAAGGAGAGCAGCGCGGTGTTCAGCAAGAGCGTGCAGAAGGGGGAGCTGAGCCGGAGCCCGAGCCCGTTCACGCACACGCACCTGGCGCAGGGGTACCGGCGGGGGGCGAAGAAGCTGGAGAGCAGCGAGGAGAACCTGAGCAGCGAGGACGAGGAGCTGCCGTGCTTCCAGCACCTGCTGTTCGGGAAGGTGAACAACATCCCGAGCCAGAGCACGCGGCACAGCACGGTGGCGACGGAGTGCCTGAGCAAGAACACGGAGGAGAACCTGCTGAGCCTGAAGAACAGCCTGAACGACTGCAGCAACCAGGTGATCCTGGCGAAGGCGAGCCAGGAGCACCACCTGAGCGAGGAGACGAAGTGCAGCGCGAGCCTGTTCAGCAGCCAGTGCAGCGAGCTGGAGGACCTGACGGCGAACACGAACACGCAGGACCCGTTCCTGATCGGGAGCAGCAAGCAGATGCGGCACCAGAGCGAGAGCCAGGGGGTGGGGCTGAGCGACAAGGAGCTGGTGAGCGACGACGAGGAGCGGGGGACGGGGCTGGAGGAGAACAACCAGGAGGAGCAGAGCATGGACAGCAACCTGGGGGAGGCGGCGAGCGGGTGCGAGAGCGAGACGAGCGTGAGCGAGGACTGCAGCGGGCTGAGCAGCCAGAGCGACATCCTGACGACGCAGCAGCGGGACACGATGCAGCACAACCTGATCAAGCTGCAGCAGGAGATGGCGGAGCTGGAGGCGGTGCTGGAGCAGCACGGGAGCCAGCCGAGCAACAGCTACCCGAGCATCATCAGCGACAGCAGCGCGCTGGAGGACCTGCGGAACCCGGAGCAGAGCACGAGCGAGAAGGCGGTGCTGACGAGCCAGAAGAGCAGCGAGTACCCGATCAGCCAGAACCCGGAGGGGCTGAGCGCGGACAAGTTCGAGGTGAGCGCGGACAGCAGCACGAGCAAGAACAAGGAGCCGGGGGTGGAGCGGAGCAGCCCGAGCAAGTGCCCGAGCCTGGACGACCGGTGGTACATGCACAGCTGCAGCGGGAGCCTGCAGAACCGGAACTACCCGAGCCAGGAGGAGCTGATCAAGGTGGTGGACGTGGAGGAGCAGCAGCTGGAGGAGAGCGGGCCGCACGACCTGACGGAGACGAGCTACCTGCCGCGGCAGGACCTGGAGGGGACGCCGTACCTGGAGAGCGGGATCAGCCTGTTCAGCGACGACCCGGAGAGCGACCCGAGCGAGGACCGGGCGCCGGAGAGCGCGCGGGTGGGGAACATCCCGAGCAGCACGAGCGCGCTGAAGGTGCCGCAGCTGAAGGTGGCGGAGAGCGCGCAGAGCCCGGCGGCGGCGCACACGACGGACACGGCGGGGTACAACGCGATGGAGGAGAGCGTGAGCCGGGAGAAGCCGGAGCTGACGGCGAGCACGGAGCGGGTGAACAAGCGGATGAGCATGGTGGTGAGCGGGCTGACGCCGGAGGAGTTCATGCTGGTGTACAAGTTCGCGCGGAAGCACCACATCACGCTGACGAACCTGATCACGGAGGAGACGACGCACGTGGTGATGAAGACGGACGCGGAGTTCGTGTGCGAGCGGACGCTGAAGTACTTCCTGGGGATCGCGGGGGGGAAGTGGGTGGTGAGCTACTTCTGGGTGACGCAGAGCATCAAGGAGCGGAAGATGCTGAACGAGCACGACTTCGAGGTGCGGGGGGACGTGGTGAACGGGCGGAACCACCAGGGGCCGAAGCGGGCGCGGGAGAGCCAGGACCGGAAGATCTTCCGGGGGCTGGAGATCTGCTGCTACGGGCCGTTCACGAACATGCCGACGGACCAGCTGGAGTGGATGGTGCAGCTGTGCGGGGCGAGCGTGGTGAAGGAGCTGAGCAGCTTCACGCTGGGGACGGGGGTGCACCCGATCGTGGTGGTGCAGCCGGACGCGTGGACGGAGGACAACGGGTTCCACGCGATCGGGCAGATGTGCGAGGCGCCGGTGGTGACGCGGGAGTGGGTGCTGGACAGCGTGGCGCTGTACCAGTGCCAGGAGCTGGACACGTACCTGATCCCGCAGATCCCGCACAGCCACTACTGA\n",
            "\n",
            "Secuencia maximizada:\n",
            " ATGGACCTGAGCGCGCTGCGGGTGGAGGAGGTGCAGAACGTGATCAACGCGATGCAGAAGATCCTGGAGTGCCCGATCTGCCTGGAGCTGATCAAGGAGCCGGTGAGCACGAAGTGCGACCACATCTTCTGCAAGTTCTGCATGCTGAAGCTGCTGAACCAGAAGAAGGGGCCGAGCCAGTGCCCGCTGTGCAAGAACGACATCACGAAGCGGAGCCTGCAGGAGAGCACGCGGTTCAGCCAGCTGGTGGAGGAGCTGCTGAAGATCATCTGCGCGTTCCAGCTGGACACGGGGCTGGAGTACGCGAACAGCTACAACTTCGCGAAGAAGGAGAACAACAGCCCGGAGCACCTGAAGGACGAGGTGAGCATCATCCAGAGCATGGGGTACCGGAACCGGGCGAAGCGGCTGCTGCAGAGCGAGCCGGAGAACCCGAGCCTGCAGGAGACGAGCCTGAGCGTGCAGCTGAGCAACCTGGGGACGGTGCGGACGCTGCGGACGAAGCAGCGGATCCAGCCGCAGAAGACGAGCGTGTACATCGAGCTGGGGAGCGACAGCAGCGAGGACACGGTGAACAAGGCGACGTACTGCAGCGTGGGGGACCAGGAGCTGCTGCAGATCACGCCGCAGGGGACGCGGGACGAGATCAGCCTGGACAGCGCGAAGAAGGCGGCGTGCGAGTTCAGCGAGACGGACGTGACGAACACGGAGCACCACCAGCCGAGCAACAACGACCTGAACACGACGGAGAAGCGGGCGGCGGAGCGGCACCCGGAGAAGTACCAGGGGAGCAGCGTGAGCAACCTGCACGTGGAGCCGTGCGGGACGAACACGCACGCGAGCAGCCTGCAGCACGAGAACAGCAGCCTGCTGCTGACGAAGGACCGGATGAACGTGGAGAAGGCGGAGTTCTGCAACAAGAGCAAGCAGCCGGGGCTGGCGCGGAGCCAGCACAACCGGTGGGCGGGGAGCAAGGAGACGTGCAACGACCGGCGGACGCCGAGCACGGAGAAGAAGGTGGACCTGAACGCGGACCCGCTGTGCGAGCGGAAGGAGTGGAACAAGCAGAAGCTGCCGTGCAGCGAGAACCCGCGGGACACGGAGGACGTGCCGTGGATCACGCTGAACAGCAGCATCCAGAAGGTGAACGAGTGGTTCAGCCGGAGCGACGAGCTGCTGGGGAGCGACGACAGCCACGACGGGGAGAGCGAGAGCAACGCGAAGGTGGCGGACGTGCTGGACGTGCTGAACGAGGTGGACGAGTACAGCGGGAGCAGCGAGAAGATCGACCTGCTGGCGAGCGACCCGCACGAGGCGCTGATCTGCAAGAGCGAGCGGGTGCACAGCAAGAGCGTGGAGAGCAACATCGAGGACAAGATCTTCGGGAAGACGTACCGGAAGAAGGCGAGCCTGCCGAACCTGAGCCACGTGACGGAGAACCTGATCATCGGGGCGTTCGTGACGGAGCCGCAGATCATCCAGGAGCGGCCGCTGACGAACAAGCTGAAGCGGAAGCGGCGGCCGACGAGCGGGCTGCACCCGGAGGACTTCATCAAGAAGGCGGACCTGGCGGTGCAGAAGACGCCGGAGATGATCAACCAGGGGACGAACCAGACGGAGCAGAACGGGCAGGTGATGAACATCACGAACAGCGGGCACGAGAACAAGACGAAGGGGGACAGCATCCAGAACGAGAAGAACCCGAACCCGATCGAGAGCCTGGAGAAGGAGAGCGCGTTCAAGACGAAGGCGGAGCCGATCAGCAGCAGCATCAGCAACATGGAGCTGGAGCTGAACATCCACAACAGCAAGGCGCCGAAGAAGAACCGGCTGCGGCGGAAGAGCAGCACGCGGCACATCCACGCGCTGGAGCTGGTGGTGAGCCGGAACCTGAGCCCGCCGAACTGCACGGAGCTGCAGATCGACAGCTGCAGCAGCAGCGAGGAGATCAAGAAGAAGAAGTACAACCAGATGCCGGTGCGGCACAGCCGGAACCTGCAGCTGATGGAGGGGAAGGAGCCGGCGACGGGGGCGAAGAAGAGCAACAAGCCGAACGAGCAGACGAGCAAGCGGCACGACAGCGACACGTTCCCGGAGCTGAAGCTGACGAACGCGCCGGGGAGCTTCACGAAGTGCAGCAACACGAGCGAGCTGAAGGAGTTCGTGAACCCGAGCCTGCCGCGGGAGGAGAAGGAGGAGAAGCTGGAGACGGTGAAGGTGAGCAACAACGCGGAGGACCCGAAGGACCTGATGCTGAGCGGGGAGCGGGTGCTGCAGACGGAGCGGAGCGTGGAGAGCAGCAGCATCAGCCTGGTGCCGGGGACGGACTACGGGACGCAGGAGAGCATCAGCCTGCTGGAGGTGAGCACGCTGGGGAAGGCGAAGACGGAGCCGAACAAGTGCGTGAGCCAGTGCGCGGCGTTCGAGAACCCGAAGGGGCTGATCCACGGGTGCAGCAAGGACAACCGGAACGACACGGAGGGGTTCAAGTACCCGCTGGGGCACGAGGTGAACCACAGCCGGGAGACGAGCATCGAGATGGAGGAGAGCGAGCTGGACGCGCAGTACCTGCAGAACACGTTCAAGGTGAGCAAGCGGCAGAGCTTCGCGCCGTTCAGCAACCCGGGGAACGCGGAGGAGGAGTGCGCGACGTTCAGCGCGCACAGCGGGAGCCTGAAGAAGCAGAGCCCGAAGGTGACGTTCGAGTGCGAGCAGAAGGAGGAGAACCAGGGGAAGAACGAGAGCAACATCAAGCCGGTGCAGACGGTGAACATCACGGCGGGGTTCCCGGTGGTGGGGCAGAAGGACAAGCCGGTGGACAACGCGAAGTGCAGCATCAAGGGGGGGAGCCGGTTCTGCCTGAGCAGCCAGTTCCGGGGGAACGAGACGGGGCTGATCACGCCGAACAAGCACGGGCTGCTGCAGAACCCGTACCGGATCCCGCCGCTGTTCCCGATCAAGAGCTTCGTGAAGACGAAGTGCAAGAAGAACCTGCTGGAGGAGAACTTCGAGGAGCACAGCATGAGCCCGGAGCGGGAGATGGGGAACGAGAACATCCCGAGCACGGTGAGCACGATCAGCCGGAACAACATCCGGGAGAACGTGTTCAAGGAGGCGAGCAGCAGCAACATCAACGAGGTGGGGAGCAGCACGAACGAGGTGGGGAGCAGCATCAACGAGATCGGGAGCAGCGACGAGAACATCCAGGCGGAGCTGGGGCGGAACCGGGGGCCGAAGCTGAACGCGATGCTGCGGCTGGGGGTGCTGCAGCCGGAGGTGTACAAGCAGAGCCTGCCGGGGAGCAACTGCAAGCACCCGGAGATCAAGAAGCAGGAGTACGAGGAGGTGGTGCAGACGGTGAACACGGACTTCAGCCCGTACCTGATCAGCGACAACCTGGAGCAGCCGATGGGGAGCAGCCACGCGAGCCAGGTGTGCAGCGAGACGCCGGACGACCTGCTGGACGACGGGGAGATCAAGGAGGACACGAGCTTCGCGGAGAACGACATCAAGGAGAGCAGCGCGGTGTTCAGCAAGAGCGTGCAGAAGGGGGAGCTGAGCCGGAGCCCGAGCCCGTTCACGCACACGCACCTGGCGCAGGGGTACCGGCGGGGGGCGAAGAAGCTGGAGAGCAGCGAGGAGAACCTGAGCAGCGAGGACGAGGAGCTGCCGTGCTTCCAGCACCTGCTGTTCGGGAAGGTGAACAACATCCCGAGCCAGAGCACGCGGCACAGCACGGTGGCGACGGAGTGCCTGAGCAAGAACACGGAGGAGAACCTGCTGAGCCTGAAGAACAGCCTGAACGACTGCAGCAACCAGGTGATCCTGGCGAAGGCGAGCCAGGAGCACCACCTGAGCGAGGAGACGAAGTGCAGCGCGAGCCTGTTCAGCAGCCAGTGCAGCGAGCTGGAGGACCTGACGGCGAACACGAACACGCAGGACCCGTTCCTGATCGGGAGCAGCAAGCAGATGCGGCACCAGAGCGAGAGCCAGGGGGTGGGGCTGAGCGACAAGGAGCTGGTGAGCGACGACGAGGAGCGGGGGACGGGGCTGGAGGAGAACAACCAGGAGGAGCAGAGCATGGACAGCAACCTGGGGGAGGCGGCGAGCGGGTGCGAGAGCGAGACGAGCGTGAGCGAGGACTGCAGCGGGCTGAGCAGCCAGAGCGACATCCTGACGACGCAGCAGCGGGACACGATGCAGCACAACCTGATCAAGCTGCAGCAGGAGATGGCGGAGCTGGAGGCGGTGCTGGAGCAGCACGGGAGCCAGCCGAGCAACAGCTACCCGAGCATCATCAGCGACAGCAGCGCGCTGGAGGACCTGCGGAACCCGGAGCAGAGCACGAGCGAGAAGGCGGTGCTGACGAGCCAGAAGAGCAGCGAGTACCCGATCAGCCAGAACCCGGAGGGGCTGAGCGCGGACAAGTTCGAGGTGAGCGCGGACAGCAGCACGAGCAAGAACAAGGAGCCGGGGGTGGAGCGGAGCAGCCCGAGCAAGTGCCCGAGCCTGGACGACCGGTGGTACATGCACAGCTGCAGCGGGAGCCTGCAGAACCGGAACTACCCGAGCCAGGAGGAGCTGATCAAGGTGGTGGACGTGGAGGAGCAGCAGCTGGAGGAGAGCGGGCCGCACGACCTGACGGAGACGAGCTACCTGCCGCGGCAGGACCTGGAGGGGACGCCGTACCTGGAGAGCGGGATCAGCCTGTTCAGCGACGACCCGGAGAGCGACCCGAGCGAGGACCGGGCGCCGGAGAGCGCGCGGGTGGGGAACATCCCGAGCAGCACGAGCGCGCTGAAGGTGCCGCAGCTGAAGGTGGCGGAGAGCGCGCAGAGCCCGGCGGCGGCGCACACGACGGACACGGCGGGGTACAACGCGATGGAGGAGAGCGTGAGCCGGGAGAAGCCGGAGCTGACGGCGAGCACGGAGCGGGTGAACAAGCGGATGAGCATGGTGGTGAGCGGGCTGACGCCGGAGGAGTTCATGCTGGTGTACAAGTTCGCGCGGAAGCACCACATCACGCTGACGAACCTGATCACGGAGGAGACGACGCACGTGGTGATGAAGACGGACGCGGAGTTCGTGTGCGAGCGGACGCTGAAGTACTTCCTGGGGATCGCGGGGGGGAAGTGGGTGGTGAGCTACTTCTGGGTGACGCAGAGCATCAAGGAGCGGAAGATGCTGAACGAGCACGACTTCGAGGTGCGGGGGGACGTGGTGAACGGGCGGAACCACCAGGGGCCGAAGCGGGCGCGGGAGAGCCAGGACCGGAAGATCTTCCGGGGGCTGGAGATCTGCTGCTACGGGCCGTTCACGAACATGCCGACGGACCAGCTGGAGTGGATGGTGCAGCTGTGCGGGGCGAGCGTGGTGAAGGAGCTGAGCAGCTTCACGCTGGGGACGGGGGTGCACCCGATCGTGGTGGTGCAGCCGGACGCGTGGACGGAGGACAACGGGTTCCACGCGATCGGGCAGATGTGCGAGGCGCCGGTGGTGACGCGGGAGTGGGTGCTGGACAGCGTGGCGCTGTACCAGTGCCAGGAGCTGGACACGTACCTGATCCCGCAGATCCCGCACAGCCACTACTGA\n"
          ]
        },
        {
          "data": {
            "text/plain": [
              "1"
            ]
          },
          "execution_count": 46,
          "metadata": {},
          "output_type": "execute_result"
        }
      ],
      "source": [
        "unparsed = SeqIO.read('content/cds.fna','fasta')\n",
        "sequence = str(unparsed.seq)\n",
        "\n",
        "randomized_sequence = seq_rand(sequence)\n",
        "maximized_sequence = seq_maxGC(sequence)\n",
        "\n",
        "recR = SeqRecord(\n",
        "    Seq(\n",
        "        randomized_sequence,\n",
        "    ),\n",
        ")\n",
        "\n",
        "recGC = SeqRecord(\n",
        "    Seq(\n",
        "        maximized_sequence,\n",
        "    ),\n",
        ")\n",
        "\n",
        "print(\"Secuencia randomizada:\\n\",maximized_sequence)\n",
        "print(\"\\nSecuencia maximizada:\\n\",maximized_sequence)\n",
        "\n",
        "SeqIO.write(recR, \"content/cds_random.fna\", \"fasta\")\n",
        "SeqIO.write(recGC, \"content/cds_maxGC.fna\", \"fasta\")"
      ]
    },
    {
      "attachments": {},
      "cell_type": "markdown",
      "metadata": {
        "id": "FdIcR7AYJ4og"
      },
      "source": [
        "### d)\n",
        "\n",
        "En base a una investigación realizada para comprender la distribución que se da dentro de una secuencia para los porcentajes de GC solo se pudo hallar una que menciona una distribución clusterizada a lo largo de la secuencia, en este caso a partir de la [Siguiente publicación](https://www.researchgate.net/publication/12570323_SEGMENT_identifying_compositional_domains_in_DNA_sequences) Realizada por Oliver et. al. (2000). El cual plantea una distribución en un estilo de clusters los cuales con largas partes que pueden tener CG y otras secciones que no. Se adjunta la imagen del gráfico presentado para ello:<br><br>\n",
        "![Variación GC](content/GC-variation-along-the-DNA-sequence-of-the-lambda-phage-genome.png \"Grafico de distribución porcentaje GC a lo largo de una secuencia\")\n",
        "<br><br>\n",
        "\n",
        "Con esto, se nos ocurre la siguiente metodología para trabajar:\n",
        "1. Calcular el tamaño de la sequencia codificadora, excluyendo el codón de inicio y stop.\n",
        "2. Obtener el total de nuecleótidos 'G' y 'C' y checkear el porcentaje de la sequencia al que corresponden.\n",
        "3. Tomar al azar codones de la lista, teniendo una mayor probabilidad de seleccionar aquellos que tengan 'G' y 'C'.\n",
        "4. Una vez elegido el codón. Maximizarlo, si queda igual (en caso de ser 'GC'), aplicar este ítem de nuevo para alguno de los codones vecinos (si se repite, continuar al mismo sentido con el resto de vecinos que se decidió para evitar bucles).\n",
        "5. Repetir 3 y 4 de manera iterativa, y por cada iteración verificar el porcentaje hasta llegar al deseado para terminar el proceso.\n",
        "\n",
        "De esta manera se busca crear una distribución semejante a la investigada. De forma que se construyan clústers como el del gráfico, el cual beneficie la creación de GC en un sector que ya los tenga."
      ]
    },
    {
      "attachments": {},
      "cell_type": "markdown",
      "metadata": {
        "id": "F3WtFIPLK2nw"
      },
      "source": [
        "***\n",
        "# Pregunta 4"
      ]
    },
    {
      "attachments": {},
      "cell_type": "markdown",
      "metadata": {
        "id": "rm6ogFYDK8LN"
      },
      "source": [
        "### a)\n",
        "\n",
        "Se implementa a partir de la función original, un despiece para crear dos funciones aparte que serán llamadas para hacer lo solicitado, siendo en este caso top3 y last3 para entregar los 3 ORFs con porcentaje mas alto y los 3 con porcentaje más bajo."
      ]
    },
    {
      "cell_type": "code",
      "execution_count": 32,
      "metadata": {
        "id": "GM9AsYx5mjMn"
      },
      "outputs": [],
      "source": [
        "from math import inf\n",
        "\n",
        "# Porcentaje más alto\n",
        "def top3(proteins, seq):\n",
        "  first = ()\n",
        "  second = ()\n",
        "  third = ()\n",
        "  f_score = 0\n",
        "  s_score = 0\n",
        "  t_score =0\n",
        "\n",
        "  for start, end in proteins:\n",
        "    c = seq[start:end]\n",
        "    s = c.count('C')+c.count('G')\n",
        "    if s > f_score:\n",
        "      first = (start, end)\n",
        "      f_score = s\n",
        "    elif s > s_score:  \n",
        "      second = (start, end)\n",
        "      s_score = s\n",
        "    elif s > t_score:\n",
        "      third = (start, end)\n",
        "      t_score = s\n",
        "\n",
        "  return first, second, third\n",
        "\n",
        "# Porcentaje mas bajo\n",
        "def last3(proteins, seq):\n",
        "  last3 = ()\n",
        "  last2 = ()\n",
        "  last = ()\n",
        "  score_3 = inf\n",
        "  score_2 = inf\n",
        "  score_1 = inf\n",
        "\n",
        "  for start, end in proteins:\n",
        "    c = seq[start:end]\n",
        "    s = c.count('C')+c.count('G')\n",
        "    if s < score_1:\n",
        "      last = (start, end)\n",
        "      score_1 = s\n",
        "    elif s < score_2:  \n",
        "      last2 = (start, end)\n",
        "      score_2 = s\n",
        "    elif s < score_3:\n",
        "      last3 = (start, end)\n",
        "      score_3 = s\n",
        "\n",
        "  return last3, last2, last"
      ]
    },
    {
      "cell_type": "code",
      "execution_count": 33,
      "metadata": {
        "colab": {
          "base_uri": "https://localhost:8080/"
        },
        "id": "TT3IejJGvoE-",
        "outputId": "dc64bd28-47b3-4e4a-d53e-966357b69b38"
      },
      "outputs": [
        {
          "name": "stdout",
          "output_type": "stream",
          "text": [
            "NQIQGVICSPDSGEFMVTFETVMEIKILHK...GVA - length 355, strand 1, 41:1109\n",
            "WDVKTVTGVLHHPFHLTFSLCPEGATQSGR...VKR - length 111, strand -1, 491:827\n",
            "KSGELRQTPPASSTLHLRLILQRSGVMMEL...NPE - length 285, strand 1, 1030:1888\n",
            "RALTGLSAPGIRSQTSCDRLRELRYVPVSL...PLQ - length 119, strand -1, 2830:3190\n",
            "RRKEHVSKKRRPQKRPRRRRFFHRLRPPDE...PTR - length 128, strand 1, 3470:3857\n",
            "GLNCSFFSICNWKFIDYINRLFQIIYLCKN...YYH - length 176, strand 1, 4249:4780\n",
            "RGIFMSDTMVVNGSGGVPAFLFSGSTLSSY...LLK - length 361, strand -1, 4814:5900\n",
            "VKKILYIKALFLCTVIKLRRFIFSVNNMKF...DLP - length 165, strand 1, 5923:6421\n",
            "LSHTVTDFTDQMAQVGLCQCVNVFLDEVTG...KAA - length 107, strand -1, 5974:6298\n",
            "GCLMKKSSIVATIITILSGSANAASSQLIP...YRF - length 315, strand 1, 6654:7602\n",
            "IYSTSEHTGEQVMRTLDEVIASRSPESQTR...FHV - length 111, strand -1, 7788:8124\n",
            "WGKLQVIGLSMWMVLFSQRFDDWLNEQEDA...ESK - length 125, strand -1, 8087:8465\n",
            "TGKQNSCQMSAIWQLRQNTATKTRQNRARI...AIK - length 100, strand 1, 8741:9044\n",
            "QGSGYAFPHASILSGIAMSHFYFLVLHAVK...CSD - length 114, strand -1, 9264:9609\n"
          ]
        }
      ],
      "source": [
        "record = SeqIO.read(\"content/NC_005816.fna\", \"fasta\")\n",
        "table = 11\n",
        "min_pro_len = 100\n",
        "\n",
        "\n",
        "def find_orfs_with_trans(seq, trans_table, min_protein_length):\n",
        "    answer = []\n",
        "    seq_len = len(seq)\n",
        "    for strand, nuc in [(+1, seq), (-1, seq.reverse_complement())]:\n",
        "        for frame in range(3):\n",
        "            trans = nuc[frame:].translate(trans_table)\n",
        "            trans_len = len(trans)\n",
        "            aa_start = 0\n",
        "            aa_end = 0\n",
        "            while aa_start < trans_len:\n",
        "                aa_end = trans.find(\"*\", aa_start)\n",
        "                if aa_end == -1:\n",
        "                    aa_end = trans_len\n",
        "                if aa_end - aa_start >= min_protein_length:\n",
        "                    if strand == 1:\n",
        "                        start = frame + aa_start * 3\n",
        "                        end = min(seq_len, frame + aa_end * 3 + 3)\n",
        "                    else:\n",
        "                        start = seq_len - frame - aa_end * 3 - 3\n",
        "                        end = seq_len - frame - aa_start * 3\n",
        "                    answer.append((start, end, strand, trans[aa_start:aa_end]))\n",
        "                aa_start = aa_end + 1\n",
        "    answer.sort()\n",
        "    return answer\n",
        "\n",
        "\n",
        "orf_list = find_orfs_with_trans(record.seq, table, min_pro_len)\n",
        "proteins = []\n",
        "for start, end, strand, pro in orf_list:\n",
        "  proteins.append((start,end))\n",
        "\n",
        "  print(\n",
        "      \"%s...%s - length %i, strand %i, %i:%i\"\n",
        "      % (pro[:30], pro[-3:], len(pro), strand, start, end)\n",
        "  )"
      ]
    },
    {
      "cell_type": "code",
      "execution_count": 34,
      "metadata": {
        "colab": {
          "base_uri": "https://localhost:8080/"
        },
        "id": "3RUxskoL6dV4",
        "outputId": "f42a6054-9ac4-4351-d875-2d70d7fbf2ae"
      },
      "outputs": [
        {
          "name": "stdout",
          "output_type": "stream",
          "text": [
            "Top 3 Más alto:\n",
            " ((41, 1109), (1030, 1888), (4814, 5900))\n",
            "...\n",
            "Top 3 más bajo:\n",
            " ((8087, 8465), (9264, 9609), (8741, 9044))\n"
          ]
        }
      ],
      "source": [
        "t3 = top3(proteins, record.seq)\n",
        "l3 = last3(proteins, record.seq)\n",
        "\n",
        "print(\"Top 3 Más alto:\\n\",t3)\n",
        "print(\"...\")\n",
        "print(\"Top 3 más bajo:\\n\",l3)"
      ]
    },
    {
      "attachments": {},
      "cell_type": "markdown",
      "metadata": {
        "id": "8gilcH_76pmf"
      },
      "source": [
        "***\n",
        "# Pregunta 5"
      ]
    },
    {
      "attachments": {},
      "cell_type": "markdown",
      "metadata": {
        "id": "kdnyhwWJ6vqY"
      },
      "source": [
        "### a) y b)\n",
        "\n",
        "Se crea el programa a partir de la librería random de python para llevar a cabo la solicitud, utilizando Biopython para extraer las secuencias."
      ]
    },
    {
      "cell_type": "code",
      "execution_count": 48,
      "metadata": {
        "id": "B0an9erT6x6N"
      },
      "outputs": [
        {
          "data": {
            "text/plain": [
              "1"
            ]
          },
          "execution_count": 48,
          "metadata": {},
          "output_type": "execute_result"
        }
      ],
      "source": [
        "from random import shuffle\n",
        "\n",
        "record = SeqIO.read(\"content/plasmido.fna\", \"fasta\")\n",
        "\n",
        "recordL = list(record.seq)\n",
        "shuffle(recordL)\n",
        "rand_seq = ''.join(recordL)\n",
        "\n",
        "rRec = SeqRecord(\n",
        "    Seq(\n",
        "        rand_seq,\n",
        "    ),\n",
        ")\n",
        "SeqIO.write(rRec, \"content/rand_plasmido.fna\", \"fasta\")"
      ]
    },
    {
      "attachments": {},
      "cell_type": "markdown",
      "metadata": {
        "id": "hY1OXOTpYMHe"
      },
      "source": [
        "### c)"
      ]
    },
    {
      "cell_type": "markdown",
      "metadata": {
        "id": "hKgQ84DcYTld"
      },
      "source": [
        "Genoma orignial:\n",
        "\n",
        "![plasmido_normal.PNG](data:image/png;base64,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)"
      ]
    },
    {
      "cell_type": "markdown",
      "metadata": {
        "id": "6zpwIaCUYWkV"
      },
      "source": [
        "Genoma randomizado:\n",
        "\n",
        "![plasmido_rand.PNG](data:image/png;base64,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)"
      ]
    },
    {
      "attachments": {},
      "cell_type": "markdown",
      "metadata": {
        "id": "IJ2tIxvtY_xK"
      },
      "source": [
        "Se evidencia inmediatamente que hay muchos más candidatos en el gen original del plásmido.\n",
        "\n",
        "Una de las razones que podrian influir en esto es el hecho de que es necesario un codón de inicio (AUG), el cual tiene una probabilidad de 1/64 de ocurrir, y un codón de terminación, el cual tiene una probabilidad de 3/64 de ocurrir."
      ]
    },
    {
      "attachments": {},
      "cell_type": "markdown",
      "metadata": {},
      "source": [
        "***\n",
        "# Pregunta 6\n",
        "\n",
        "### a)\n",
        "Para este desarrollo se "
      ]
    },
    {
      "cell_type": "markdown",
      "metadata": {},
      "source": []
    }
  ],
  "metadata": {
    "colab": {
      "provenance": []
    },
    "kernelspec": {
      "display_name": "Python 3",
      "language": "python",
      "name": "python3"
    },
    "language_info": {
      "codemirror_mode": {
        "name": "ipython",
        "version": 3
      },
      "file_extension": ".py",
      "mimetype": "text/x-python",
      "name": "python",
      "nbconvert_exporter": "python",
      "pygments_lexer": "ipython3",
      "version": "3.11.1"
    },
    "vscode": {
      "interpreter": {
        "hash": "569dbe3c2a9284b6f6666f4e104396fc384dc9534bcb388329c61f5fccc6acf8"
      }
    }
  },
  "nbformat": 4,
  "nbformat_minor": 0
}
